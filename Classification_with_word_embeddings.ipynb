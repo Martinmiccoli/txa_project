{
  "nbformat": 4,
  "nbformat_minor": 0,
  "metadata": {
    "colab": {
      "provenance": [],
      "toc_visible": true,
      "mount_file_id": "19uoTl0oY3jyQSiU2rwWS7lL4DiJz-0Mq",
      "authorship_tag": "ABX9TyPqLJ44Fo/QcpvvL929OZrs",
      "include_colab_link": true
    },
    "kernelspec": {
      "name": "python3",
      "display_name": "Python 3"
    },
    "language_info": {
      "name": "python"
    }
  },
  "cells": [
    {
      "cell_type": "markdown",
      "metadata": {
        "id": "view-in-github",
        "colab_type": "text"
      },
      "source": [
        "<a href=\"https://colab.research.google.com/github/g-fabiani4-unipi/txa_project/blob/camilla/Classification_with_word_embeddings.ipynb\" target=\"_parent\"><img src=\"https://colab.research.google.com/assets/colab-badge.svg\" alt=\"Open In Colab\"/></a>"
      ]
    },
    {
      "cell_type": "code",
      "execution_count": 4,
      "metadata": {
        "colab": {
          "base_uri": "https://localhost:8080/"
        },
        "id": "WYGBPEhx-1sn",
        "outputId": "04964a30-e11d-4794-f573-17c29cb50666"
      },
      "outputs": [
        {
          "output_type": "stream",
          "name": "stdout",
          "text": [
            "Cloning into 'txa_project'...\n",
            "remote: Enumerating objects: 139, done.\u001b[K\n",
            "remote: Counting objects: 100% (139/139), done.\u001b[K\n",
            "remote: Compressing objects: 100% (87/87), done.\u001b[K\n",
            "remote: Total 139 (delta 59), reused 118 (delta 47), pack-reused 0 (from 0)\u001b[K\n",
            "Receiving objects: 100% (139/139), 20.96 MiB | 15.01 MiB/s, done.\n",
            "Resolving deltas: 100% (59/59), done.\n"
          ]
        }
      ],
      "source": [
        "!git clone https://github.com/g-fabiani4-unipi/txa_project.git\n",
        "!cd txa_project"
      ]
    },
    {
      "cell_type": "code",
      "source": [
        "!pip install stanza"
      ],
      "metadata": {
        "colab": {
          "base_uri": "https://localhost:8080/"
        },
        "id": "65VXRGwZPSOw",
        "outputId": "96b8e057-9d21-443c-8b0b-9965f123b791"
      },
      "execution_count": 5,
      "outputs": [
        {
          "output_type": "stream",
          "name": "stdout",
          "text": [
            "Collecting stanza\n",
            "  Downloading stanza-1.9.2-py3-none-any.whl.metadata (13 kB)\n",
            "Collecting emoji (from stanza)\n",
            "  Downloading emoji-2.14.0-py3-none-any.whl.metadata (5.7 kB)\n",
            "Requirement already satisfied: numpy in /usr/local/lib/python3.10/dist-packages (from stanza) (1.26.4)\n",
            "Requirement already satisfied: protobuf>=3.15.0 in /usr/local/lib/python3.10/dist-packages (from stanza) (4.25.5)\n",
            "Requirement already satisfied: requests in /usr/local/lib/python3.10/dist-packages (from stanza) (2.32.3)\n",
            "Requirement already satisfied: networkx in /usr/local/lib/python3.10/dist-packages (from stanza) (3.4.2)\n",
            "Requirement already satisfied: torch>=1.3.0 in /usr/local/lib/python3.10/dist-packages (from stanza) (2.5.1+cu121)\n",
            "Requirement already satisfied: tqdm in /usr/local/lib/python3.10/dist-packages (from stanza) (4.66.6)\n",
            "Requirement already satisfied: tomli in /usr/local/lib/python3.10/dist-packages (from stanza) (2.1.0)\n",
            "Requirement already satisfied: filelock in /usr/local/lib/python3.10/dist-packages (from torch>=1.3.0->stanza) (3.16.1)\n",
            "Requirement already satisfied: typing-extensions>=4.8.0 in /usr/local/lib/python3.10/dist-packages (from torch>=1.3.0->stanza) (4.12.2)\n",
            "Requirement already satisfied: jinja2 in /usr/local/lib/python3.10/dist-packages (from torch>=1.3.0->stanza) (3.1.4)\n",
            "Requirement already satisfied: fsspec in /usr/local/lib/python3.10/dist-packages (from torch>=1.3.0->stanza) (2024.10.0)\n",
            "Requirement already satisfied: sympy==1.13.1 in /usr/local/lib/python3.10/dist-packages (from torch>=1.3.0->stanza) (1.13.1)\n",
            "Requirement already satisfied: mpmath<1.4,>=1.1.0 in /usr/local/lib/python3.10/dist-packages (from sympy==1.13.1->torch>=1.3.0->stanza) (1.3.0)\n",
            "Requirement already satisfied: charset-normalizer<4,>=2 in /usr/local/lib/python3.10/dist-packages (from requests->stanza) (3.4.0)\n",
            "Requirement already satisfied: idna<4,>=2.5 in /usr/local/lib/python3.10/dist-packages (from requests->stanza) (3.10)\n",
            "Requirement already satisfied: urllib3<3,>=1.21.1 in /usr/local/lib/python3.10/dist-packages (from requests->stanza) (2.2.3)\n",
            "Requirement already satisfied: certifi>=2017.4.17 in /usr/local/lib/python3.10/dist-packages (from requests->stanza) (2024.8.30)\n",
            "Requirement already satisfied: MarkupSafe>=2.0 in /usr/local/lib/python3.10/dist-packages (from jinja2->torch>=1.3.0->stanza) (3.0.2)\n",
            "Downloading stanza-1.9.2-py3-none-any.whl (1.1 MB)\n",
            "\u001b[2K   \u001b[90m━━━━━━━━━━━━━━━━━━━━━━━━━━━━━━━━━━━━━━━━\u001b[0m \u001b[32m1.1/1.1 MB\u001b[0m \u001b[31m12.9 MB/s\u001b[0m eta \u001b[36m0:00:00\u001b[0m\n",
            "\u001b[?25hDownloading emoji-2.14.0-py3-none-any.whl (586 kB)\n",
            "\u001b[2K   \u001b[90m━━━━━━━━━━━━━━━━━━━━━━━━━━━━━━━━━━━━━━━━\u001b[0m \u001b[32m586.9/586.9 kB\u001b[0m \u001b[31m27.3 MB/s\u001b[0m eta \u001b[36m0:00:00\u001b[0m\n",
            "\u001b[?25hInstalling collected packages: emoji, stanza\n",
            "Successfully installed emoji-2.14.0 stanza-1.9.2\n"
          ]
        }
      ]
    },
    {
      "cell_type": "code",
      "source": [
        "import numpy as np\n",
        "import os\n",
        "from sklearn.manifold import TSNE\n",
        "import matplotlib.pyplot as plt\n",
        "import re\n",
        "import pickle\n",
        "import stanza\n",
        "import gensim\n",
        "from sklearn.preprocessing import MinMaxScaler\n",
        "from collections import Counter"
      ],
      "metadata": {
        "id": "KECaNccn_JB3"
      },
      "execution_count": 100,
      "outputs": []
    },
    {
      "cell_type": "code",
      "source": [
        "\"\"\"\n",
        "#Remember to upload the word embeddings txt file and update the path\n",
        "embeddings_path = f'/content/drive/MyDrive/TXA_PROJECT/data/word_embeddings/twitter128.txt'\n",
        "\"\"\""
      ],
      "metadata": {
        "id": "EfzFE5xa_LrO",
        "colab": {
          "base_uri": "https://localhost:8080/",
          "height": 54
        },
        "outputId": "e83f6719-850f-42c4-b5bb-3dd4d8307486"
      },
      "execution_count": 7,
      "outputs": [
        {
          "output_type": "execute_result",
          "data": {
            "text/plain": [
              "\"\\n#Remember to upload the word embeddings txt file and update the path\\nembeddings_path = f'/content/drive/MyDrive/TXA_PROJECT/data/word_embeddings/twitter128.txt'\\n\""
            ],
            "application/vnd.google.colaboratory.intrinsic+json": {
              "type": "string"
            }
          },
          "metadata": {},
          "execution_count": 7
        }
      ]
    },
    {
      "cell_type": "code",
      "source": [
        "\"\"\"\n",
        "def load_word_embeddings(src_path):\n",
        "  '''\n",
        "  Read the twitter128.txt file and build a dict {word: its embedding representation}\n",
        "  '''\n",
        "  embeddings = dict()\n",
        "  for line in open(src_path, 'r'):\n",
        "      line = line.strip().split('\\t')\n",
        "      word = line[0]\n",
        "      embedding = line[1:]\n",
        "      embedding = [float(comp) for comp in embedding] # convertiamo le componenti dell'embedding in float\n",
        "      embeddings[word] = np.asarray(embedding) # trasformiamo la lista delle componenti in un vettore di numpy\n",
        "  return embeddings\n",
        "\"\"\""
      ],
      "metadata": {
        "id": "HkZnDmq2_-id",
        "colab": {
          "base_uri": "https://localhost:8080/",
          "height": 91
        },
        "outputId": "3e78ba9e-5a5b-4ea9-ad76-53e757b780e1"
      },
      "execution_count": 8,
      "outputs": [
        {
          "output_type": "execute_result",
          "data": {
            "text/plain": [
              "\"\\ndef load_word_embeddings(src_path):\\n  '''\\n  Read the twitter128.txt file and build a dict {word: its embedding representation}\\n  '''\\n  embeddings = dict()\\n  for line in open(src_path, 'r'):\\n      line = line.strip().split('\\t')\\n      word = line[0]\\n      embedding = line[1:]\\n      embedding = [float(comp) for comp in embedding] # convertiamo le componenti dell'embedding in float\\n      embeddings[word] = np.asarray(embedding) # trasformiamo la lista delle componenti in un vettore di numpy\\n  return embeddings\\n\""
            ],
            "application/vnd.google.colaboratory.intrinsic+json": {
              "type": "string"
            }
          },
          "metadata": {},
          "execution_count": 8
        }
      ]
    },
    {
      "cell_type": "code",
      "source": [
        "\"\"\"\n",
        "embeddings = load_word_embeddings(embeddings_path)\n",
        "\"\"\""
      ],
      "metadata": {
        "id": "DG2HFmh1DFAN",
        "colab": {
          "base_uri": "https://localhost:8080/",
          "height": 36
        },
        "outputId": "bbdaa4ab-1a88-480e-d964-c9a2f774d596"
      },
      "execution_count": 9,
      "outputs": [
        {
          "output_type": "execute_result",
          "data": {
            "text/plain": [
              "'\\nembeddings = load_word_embeddings(embeddings_path)\\n'"
            ],
            "application/vnd.google.colaboratory.intrinsic+json": {
              "type": "string"
            }
          },
          "metadata": {},
          "execution_count": 9
        }
      ]
    },
    {
      "cell_type": "code",
      "source": [
        "'''\n",
        "#pickle embeddings\n",
        "outpath = '/content/drive/MyDrive/TXA_PROJECT/data/word_embeddings/embeddings.pkl' #my own Drive folder → can't be distributed\n",
        "with open(outpath, 'wb') as outfile:\n",
        "    pickle.dump(embeddings, outfile)\n",
        "'''"
      ],
      "metadata": {
        "colab": {
          "base_uri": "https://localhost:8080/",
          "height": 54
        },
        "id": "-8TMvLshPc49",
        "outputId": "f07bbe90-d38d-41d7-933e-c20f5ee580a5"
      },
      "execution_count": 10,
      "outputs": [
        {
          "output_type": "execute_result",
          "data": {
            "text/plain": [
              "\"\\n#pickle embeddings\\noutpath = '/content/drive/MyDrive/TXA_PROJECT/data/word_embeddings/embeddings.pkl' #my own Drive folder → can't be distributed\\nwith open(outpath, 'wb') as outfile:\\n    pickle.dump(embeddings, outfile)\\n\""
            ],
            "application/vnd.google.colaboratory.intrinsic+json": {
              "type": "string"
            }
          },
          "metadata": {},
          "execution_count": 10
        }
      ]
    },
    {
      "cell_type": "code",
      "source": [
        "# Loading from pickle\n",
        "emb_path = '/content/drive/MyDrive/TXA_PROJECT/data/word_embeddings/embeddings.pkl' #UPLOAD embeddings.pkl AND UPDATE PATH\n",
        "with open(emb_path, 'rb') as f:\n",
        "    embeddings = pickle.load(f)"
      ],
      "metadata": {
        "id": "ZvIsTLGtQfs0"
      },
      "execution_count": 11,
      "outputs": []
    },
    {
      "cell_type": "markdown",
      "source": [
        "#Semantic space discovery and understanding\n",
        "\n"
      ],
      "metadata": {
        "id": "iyntE6IMDGDD"
      }
    },
    {
      "cell_type": "code",
      "source": [
        "\"\"\"See the range of variance of the embeddings' components \"\"\"\n",
        "\n",
        "min_value = 99999\n",
        "max_value = -99999\n",
        "for word in embeddings:\n",
        "    for comp in embeddings[word]:\n",
        "        if comp > max_value:\n",
        "            max_value = comp\n",
        "        elif comp < min_value:\n",
        "            min_value = comp\n",
        "\n",
        "print(f'Minimum value = {min_value}')\n",
        "print(f'Maximum value = {max_value}')"
      ],
      "metadata": {
        "colab": {
          "base_uri": "https://localhost:8080/"
        },
        "id": "49bPvbB_FOf1",
        "outputId": "bc65ee9f-4ec4-4b87-ab3b-ac3f22218a0d"
      },
      "execution_count": 12,
      "outputs": [
        {
          "output_type": "stream",
          "name": "stdout",
          "text": [
            "Minimum value = -0.47946637868881226\n",
            "Maximum value = 0.4648260474205017\n"
          ]
        }
      ]
    },
    {
      "cell_type": "markdown",
      "source": [
        "##Word representation\n",
        "TSNE: dimensionality reduction algorithm → allows us to map our 128 dimensional vectors in a  bidimensional space"
      ],
      "metadata": {
        "id": "W9ExQacSFs-j"
      }
    },
    {
      "cell_type": "code",
      "source": [
        "top20_clean = ['rom', 'migranti', 'Roma', 'immigrati', 'italia', 'campo', 'nomadi', 'stranieri','italiani','via', 'solo', 'Salvini', 'immigrazione', 'profughi', 'Milano', 'campi', 'terrorismo', 'fare', 'due', 'dopo']\n",
        "embs = [embeddings[word] for word in top20_clean]\n",
        "embs = np.stack(embs, axis=0) # la funzione stack \"attacca\" una lista di vettori, creando una matrice"
      ],
      "metadata": {
        "id": "yc_60awPFsqm"
      },
      "execution_count": 13,
      "outputs": []
    },
    {
      "cell_type": "code",
      "source": [
        "reduced_embs = TSNE(n_components=2, learning_rate='auto', init='random', perplexity=3).fit_transform(embs)\n",
        "#n_components=2 → riduce la dimensionalità a 2; il resto sono parametri di default"
      ],
      "metadata": {
        "id": "dawv-LAeSVIH"
      },
      "execution_count": 14,
      "outputs": []
    },
    {
      "cell_type": "code",
      "source": [
        "embs.shape, reduced_embs.shape #128 vs 2 dimensions"
      ],
      "metadata": {
        "colab": {
          "base_uri": "https://localhost:8080/"
        },
        "id": "7ua0OD7USWDt",
        "outputId": "0bcbc782-d335-41a7-f8fe-589cdbae090c"
      },
      "execution_count": 15,
      "outputs": [
        {
          "output_type": "execute_result",
          "data": {
            "text/plain": [
              "((20, 128), (20, 2))"
            ]
          },
          "metadata": {},
          "execution_count": 15
        }
      ]
    },
    {
      "cell_type": "code",
      "source": [
        "\n",
        "fig, ax = plt.subplots()\n",
        "ax.scatter(reduced_embs[:,0], reduced_embs[:,1])\n",
        "for i, word in enumerate(top20_clean):\n",
        "    ax.annotate(word, (reduced_embs[i,0]+0.5, reduced_embs[i, 1]+0.5))"
      ],
      "metadata": {
        "colab": {
          "base_uri": "https://localhost:8080/",
          "height": 430
        },
        "id": "nVZRBVwPSgal",
        "outputId": "495c30aa-f5da-4893-af74-48731f251f26"
      },
      "execution_count": 16,
      "outputs": [
        {
          "output_type": "display_data",
          "data": {
            "text/plain": [
              "<Figure size 640x480 with 1 Axes>"
            ],
            "image/png": "[encoded data removed]"
          },
          "metadata": {}
        }
      ]
    },
    {
      "cell_type": "markdown",
      "source": [
        "#Text normalization\n",
        "[Preprocessing functions by the ItaliaNLP lab](http://www.italianlp.it/we-distributed/norm_script.py)\n"
      ],
      "metadata": {
        "id": "NRh1QN7vHtgz"
      }
    },
    {
      "cell_type": "code",
      "source": [
        "def get_digits(text):\n",
        "    try:\n",
        "      val = int(text)\n",
        "    except:\n",
        "      text = re.sub('\\d', '@Dg', text)\n",
        "      return text\n",
        "    if val >= 0 and val < 2100:\n",
        "      return str(val)\n",
        "    else:\n",
        "      return \"DIGLEN_\" + str(len(str(val)))\n",
        "\n",
        "def normalize_text(word):\n",
        "    if \"http\" in word or (\".\" in word and \"/\" in word):\n",
        "      word = \"___URL___\" #word = unicode(\"___URL___\") → obsolete\n",
        "      return word\n",
        "    if len(word) > 26:\n",
        "      return \"__LONG-LONG__\"\n",
        "    new_word = get_digits(word)\n",
        "    if new_word != word:\n",
        "      word = new_word\n",
        "    if word[0].isupper():\n",
        "      word = word.capitalize()\n",
        "    else:\n",
        "      word = word.lower()\n",
        "    return word"
      ],
      "metadata": {
        "id": "ltoMEN2ZHr4t"
      },
      "execution_count": 17,
      "outputs": []
    },
    {
      "cell_type": "code",
      "source": [
        "#import the docs → pickle file by Giulia\n",
        "'''\n",
        "Dict of dicts → Save each document in a dictionary:\n",
        "id document id: string\n",
        "raw_text document text as is (no processing): string\n",
        "hs: int\n",
        "stereotype: int\n",
        "proc_text document text processed by Stanza Pipeline: stanza Document\n",
        "'''\n",
        "with open('/content/txa_project/results/stanza_proc_train.pkl', 'rb') as infile:\n",
        "    loaded_docs = pickle.load(infile)"
      ],
      "metadata": {
        "id": "fbtf_yqCNw0a"
      },
      "execution_count": 18,
      "outputs": []
    },
    {
      "cell_type": "code",
      "source": [
        "#loaded_docs[0]['proc_text'].to_dict()[0][16]['id']\n",
        "#isinstance(loaded_docs[0]['proc_text'].to_dict()[0][15]['id'], tuple)\n",
        "len(loaded_docs[0]['proc_text'].to_dict()[0][15]['id'])"
      ],
      "metadata": {
        "colab": {
          "base_uri": "https://localhost:8080/"
        },
        "id": "woIwU23RSayv",
        "outputId": "de43a56d-ab6a-4ed1-a0ec-ad3254a4d82b"
      },
      "execution_count": 50,
      "outputs": [
        {
          "output_type": "execute_result",
          "data": {
            "text/plain": [
              "2"
            ]
          },
          "metadata": {},
          "execution_count": 50
        }
      ]
    },
    {
      "cell_type": "code",
      "source": [
        "isinstance(loaded_docs[0]['proc_text'].to_dict()[0][19]['id'], int)"
      ],
      "metadata": {
        "colab": {
          "base_uri": "https://localhost:8080/"
        },
        "id": "FE1CL8pKSCtZ",
        "outputId": "0fdd2c59-59c6-4f30-93ea-22e133199eea"
      },
      "execution_count": 43,
      "outputs": [
        {
          "output_type": "execute_result",
          "data": {
            "text/plain": [
              "True"
            ]
          },
          "metadata": {},
          "execution_count": 43
        }
      ]
    },
    {
      "cell_type": "code",
      "source": [
        "loaded_docs[0]['proc_text'].sentences[0].tokens[15]"
      ],
      "metadata": {
        "colab": {
          "base_uri": "https://localhost:8080/"
        },
        "id": "EI7ZqMqpTx9H",
        "outputId": "ffe116aa-07d7-402a-bb1a-66e6ec85c9d2"
      },
      "execution_count": 71,
      "outputs": [
        {
          "output_type": "execute_result",
          "data": {
            "text/plain": [
              "[\n",
              "  {\n",
              "    \"id\": [\n",
              "      16,\n",
              "      17\n",
              "    ],\n",
              "    \"text\": \"renderle\",\n",
              "    \"start_char\": 79,\n",
              "    \"end_char\": 87\n",
              "  },\n",
              "  {\n",
              "    \"id\": 16,\n",
              "    \"text\": \"render\",\n",
              "    \"lemma\": \"rendere\",\n",
              "    \"upos\": \"VERB\",\n",
              "    \"xpos\": \"V\",\n",
              "    \"feats\": \"VerbForm=Inf\",\n",
              "    \"head\": 7,\n",
              "    \"deprel\": \"conj\",\n",
              "    \"start_char\": 79,\n",
              "    \"end_char\": 85\n",
              "  },\n",
              "  {\n",
              "    \"id\": 17,\n",
              "    \"text\": \"le\",\n",
              "    \"lemma\": \"le\",\n",
              "    \"upos\": \"PRON\",\n",
              "    \"xpos\": \"PC\",\n",
              "    \"feats\": \"Clitic=Yes|Gender=Fem|Number=Plur|Person=3|PronType=Prs\",\n",
              "    \"head\": 16,\n",
              "    \"deprel\": \"obj\",\n",
              "    \"start_char\": 85,\n",
              "    \"end_char\": 87\n",
              "  }\n",
              "]"
            ]
          },
          "metadata": {},
          "execution_count": 71
        }
      ]
    },
    {
      "cell_type": "code",
      "source": [
        "loaded_docs[0]['proc_text'].sentences[0].tokens[15].words[1]"
      ],
      "metadata": {
        "colab": {
          "base_uri": "https://localhost:8080/"
        },
        "id": "S4PHS1i2ojK7",
        "outputId": "3a90a131-8b40-4985-930a-c16d8938e309"
      },
      "execution_count": 79,
      "outputs": [
        {
          "output_type": "execute_result",
          "data": {
            "text/plain": [
              "{\n",
              "  \"id\": 17,\n",
              "  \"text\": \"le\",\n",
              "  \"lemma\": \"le\",\n",
              "  \"upos\": \"PRON\",\n",
              "  \"xpos\": \"PC\",\n",
              "  \"feats\": \"Clitic=Yes|Gender=Fem|Number=Plur|Person=3|PronType=Prs\",\n",
              "  \"head\": 16,\n",
              "  \"deprel\": \"obj\",\n",
              "  \"start_char\": 85,\n",
              "  \"end_char\": 87\n",
              "}"
            ]
          },
          "metadata": {},
          "execution_count": 79
        }
      ]
    },
    {
      "cell_type": "code",
      "source": [
        "#Longer but more readable\n",
        "\n",
        "\"\"\"\n",
        "def get_tokens_from_tweet(doc):\n",
        "    document_tokens = []\n",
        "    for token in doc['proc_text'].iter_tokens():  #Prendi stanza doc dei tweet → tokenizzato, itera sui token\n",
        "        if isinstance(token.id, tuple):  # Se il token ha un ID composto (clitico)\n",
        "            word = normalize_text(token.text)\n",
        "            token_data = {\n",
        "                'word': word,\n",
        "                'pos': token.words[0].upos #pos della parola lessicale principale\n",
        "            }\n",
        "            document_tokens.append(token_data)\n",
        "\n",
        "        else:  # Token normale, l'id è un int\n",
        "            word = normalize_text(token.text)\n",
        "            pos = token.upos\n",
        "            token_data = {\n",
        "                'word': word,\n",
        "                'pos': pos\n",
        "            }\n",
        "            document_tokens.append(token_data)\n",
        "    return document_tokens\n",
        "    \"\"\""
      ],
      "metadata": {
        "id": "PtpgTdTPhyAF"
      },
      "execution_count": 80,
      "outputs": []
    },
    {
      "cell_type": "code",
      "source": [
        "def create_token_data(word, pos):\n",
        "  \"\"\"\n",
        "  Helper function, builds a dictionary with the token data.\n",
        "  \"\"\"\n",
        "  return {'word': word, 'pos': pos}\n",
        "\n",
        "def get_tokens_from_tweet(doc):\n",
        "  \"\"\"\n",
        "  For a doc (tweet), iterate over its tokens and creates a dict for each token,\n",
        "  containing its normalized form (that matches the embeddings' normalization) and its POS.\n",
        "  If the token has clitics, the POS is taken from the host (in Italian: the first word).\n",
        "  \"\"\"\n",
        "  document_tokens = []\n",
        "  for token in doc['proc_text'].iter_tokens():  #Prendi stanza doc dei tweet → tokenizzato, itera sui token\n",
        "      word = normalize_text(token.text)\n",
        "      token_data = create_token_data(word, token.words[0].upos if isinstance(token.id, tuple) else token.upos) #if isinstance(token.id, tuple), the token has at least a clitic\n",
        "      document_tokens.append(token_data)\n",
        "  return document_tokens"
      ],
      "metadata": {
        "id": "qyKzxzzL6bEn"
      },
      "execution_count": 87,
      "outputs": []
    },
    {
      "cell_type": "code",
      "source": [
        "all_documents = []\n",
        "for doc in loaded_docs: #itera sui tweet\n",
        "  document_tokens = get_tokens_from_tweet(doc)\n",
        "  all_documents.append(document_tokens)"
      ],
      "metadata": {
        "id": "8QBVOQXaNB_j"
      },
      "execution_count": 88,
      "outputs": []
    },
    {
      "cell_type": "code",
      "source": [
        "all_documents[0]#[1]['word']"
      ],
      "metadata": {
        "colab": {
          "base_uri": "https://localhost:8080/"
        },
        "id": "0WERPaOdQpOt",
        "outputId": "96ad9439-b5b7-445a-9647-1ba8338c59dc"
      },
      "execution_count": 105,
      "outputs": [
        {
          "output_type": "execute_result",
          "data": {
            "text/plain": [
              "[{'word': 'È', 'pos': 'AUX'},\n",
              " {'word': 'terrorismo', 'pos': 'NOUN'},\n",
              " {'word': 'anche', 'pos': 'ADV'},\n",
              " {'word': 'questo', 'pos': 'PRON'},\n",
              " {'word': ',', 'pos': 'PUNCT'},\n",
              " {'word': 'per', 'pos': 'ADP'},\n",
              " {'word': 'mettere', 'pos': 'VERB'},\n",
              " {'word': 'in', 'pos': 'ADP'},\n",
              " {'word': 'uno', 'pos': 'DET'},\n",
              " {'word': 'stato', 'pos': 'NOUN'},\n",
              " {'word': 'di', 'pos': 'ADP'},\n",
              " {'word': 'soggezione', 'pos': 'NOUN'},\n",
              " {'word': 'le', 'pos': 'DET'},\n",
              " {'word': 'persone', 'pos': 'NOUN'},\n",
              " {'word': 'e', 'pos': 'CCONJ'},\n",
              " {'word': 'renderle', 'pos': 'VERB'},\n",
              " {'word': 'innocue', 'pos': 'ADJ'},\n",
              " {'word': ',', 'pos': 'PUNCT'},\n",
              " {'word': 'mentre', 'pos': 'SCONJ'},\n",
              " {'word': 'qualcuno', 'pos': 'PRON'}]"
            ]
          },
          "metadata": {},
          "execution_count": 105
        }
      ]
    },
    {
      "cell_type": "markdown",
      "source": [
        "#Exploring the embedding representation of the tweets"
      ],
      "metadata": {
        "id": "D6rE0q1CextF"
      }
    },
    {
      "cell_type": "code",
      "source": [
        "def vocabulary_tweets(all_documents):\n",
        "  vocabulary = set()\n",
        "  for tweet in all_documents:\n",
        "    for token in tweet:\n",
        "      vocabulary.add(token['word'])\n",
        "  return vocabulary"
      ],
      "metadata": {
        "id": "tTXMcYQ1fM7o"
      },
      "execution_count": 119,
      "outputs": []
    },
    {
      "cell_type": "code",
      "source": [
        "tweets_vocab = vocabulary_tweets(all_documents)\n",
        "embs_vocab = set(embeddings.keys())\n",
        "\n",
        "missing_words = tweets_vocab - embs_vocab"
      ],
      "metadata": {
        "id": "ZfU_TJsMgGJ3"
      },
      "execution_count": 120,
      "outputs": []
    },
    {
      "cell_type": "code",
      "source": [
        "coverage = (len(tweets_vocab - missing_words) / len(tweets_vocab)) * 100\n",
        "print(f\"Numero di parole OOV: {len(missing_words)} su {len(tweets_vocab)}.\")\n",
        "print(f\"Copertura embedding: {coverage:.2f}%.\")"
      ],
      "metadata": {
        "colab": {
          "base_uri": "https://localhost:8080/"
        },
        "id": "1uS1DQv3igsL",
        "outputId": "0ef5c62e-d575-4b40-c435-fa1868848265"
      },
      "execution_count": 124,
      "outputs": [
        {
          "output_type": "stream",
          "name": "stdout",
          "text": [
            "Numero di parole OOV: 2703 su 22709.\n",
            "Copertura embedding: 88.10%.\n"
          ]
        }
      ]
    },
    {
      "cell_type": "code",
      "source": [
        "missing_words_freq = Counter(missing_words)\n",
        "missing_words_freq"
      ],
      "metadata": {
        "colab": {
          "base_uri": "https://localhost:8080/"
        },
        "id": "xt8UHdRLkT72",
        "outputId": "c5ce9f17-69df-4e8f-b562-7cf9c2f6b464"
      },
      "execution_count": 130,
      "outputs": [
        {
          "output_type": "execute_result",
          "data": {
            "text/plain": [
              "Counter({'Mito!': 1,\n",
              "         '•contrastare': 1,\n",
              "         'tua!': 1,\n",
              "         '😤😤😤': 1,\n",
              "         'Orent-': 1,\n",
              "         'Papaingeorgiap': 1,\n",
              "         'Indagini|': 1,\n",
              "         'londonattack': 1,\n",
              "         'vcomunali': 1,\n",
              "         'empieta': 1,\n",
              "         'camponomadi': 1,\n",
              "         '😈@dg@dg@dg.@dg@dg@dg': 1,\n",
              "         'Bel/': 1,\n",
              "         'A.i.z.o': 1,\n",
              "         '-terrorismo': 1,\n",
              "         'Deperito': 1,\n",
              "         'all…': 1,\n",
              "         'murtids': 1,\n",
              "         'folliaitaliana': 1,\n",
              "         '!tutto': 1,\n",
              "         'Mediocampidan…': 1,\n",
              "         'eraora': 1,\n",
              "         'Pd…': 1,\n",
              "         'albanianews': 1,\n",
              "         'ladruncole': 1,\n",
              "         \"Testal'\": 1,\n",
              "         'Stazionetiburtina': 1,\n",
              "         'Noislam': 1,\n",
              "         '”il': 1,\n",
              "         'Urgentissimo.': 1,\n",
              "         'Masood': 1,\n",
              "         'Rimpatriamolitutti': 1,\n",
              "         '😉primagliitaliani': 1,\n",
              "         'pablovic': 1,\n",
              "         'guerra\\\\': 1,\n",
              "         'Regau': 1,\n",
              "         'isisfuckyou': 1,\n",
              "         'Herrou': 1,\n",
              "         'Sestosangiovanni': 1,\n",
              "         'webitalia@dg@dg@dg': 1,\n",
              "         'Semianalfabeti': 1,\n",
              "         'Chaliehebdo': 1,\n",
              "         'tovinato': 1,\n",
              "         'Oscar@dg@dg@dg@dg': 1,\n",
              "         'incintà': 1,\n",
              "         '💩💩uomini': 1,\n",
              "         'Italianibravagente': 1,\n",
              "         'Cronaca…': 1,\n",
              "         'viae': 1,\n",
              "         '-guerra': 1,\n",
              "         'sharia@dgbelgium': 1,\n",
              "         \"mo'\": 1,\n",
              "         'staseraitalia': 1,\n",
              "         'Svuotacantine': 1,\n",
              "         'Rimini…': 1,\n",
              "         '💩💩donne': 1,\n",
              "         'd`origine': 1,\n",
              "         '”': 1,\n",
              "         'Bibliotucommenti': 1,\n",
              "         ':francesco': 1,\n",
              "         'Merd.👎👎👎': 1,\n",
              "         'po…': 1,\n",
              "         'patronaggio': 1,\n",
              "         'Dicittadinanza': 1,\n",
              "         '”e': 1,\n",
              "         'Parcodellevalli': 1,\n",
              "         'Vecchi.': 1,\n",
              "         'kedifendon': 1,\n",
              "         'siutare': 1,\n",
              "         'piccolasiamo': 1,\n",
              "         '!gli': 1,\n",
              "         'raggiungere🇮🇹': 1,\n",
              "         ':dopo': 1,\n",
              "         'paro…': 1,\n",
              "         '@dg@dg@dg@dgmigranti': 1,\n",
              "         'P…': 1,\n",
              "         'Zhangyao': 1,\n",
              "         'Spedirli': 1,\n",
              "         'Sinodo@dg@dg@dg@dg': 1,\n",
              "         '!siamo': 1,\n",
              "         'aiutarearrivate': 1,\n",
              "         'Rossa/': 1,\n",
              "         'infogneremo': 1,\n",
              "         'Fourquet': 1,\n",
              "         'f…': 1,\n",
              "         'puntidivista': 1,\n",
              "         'apiero': 1,\n",
              "         'Lavoro,': 1,\n",
              "         'Heberlein': 1,\n",
              "         'domiciari': 1,\n",
              "         'fucileremo': 1,\n",
              "         'Compact=solo': 1,\n",
              "         'Siam…': 1,\n",
              "         'Webs': 1,\n",
              "         'Avanti!live': 1,\n",
              "         '-campo': 1,\n",
              "         '?te': 1,\n",
              "         'attaccoterroristico': 1,\n",
              "         'defendeurope': 1,\n",
              "         'impietosirvi': 1,\n",
              "         'cazz😢': 1,\n",
              "         '•arci': 1,\n",
              "         ':tutto': 1,\n",
              "         '@dg@dg@dg€/die': 1,\n",
              "         'huricano': 1,\n",
              "         'Tortutati': 1,\n",
              "         'Dissacrando': 1,\n",
              "         'italiani!': 1,\n",
              "         'cammello🤣🤣🤣🤣': 1,\n",
              "         'Islamè': 1,\n",
              "         'in…': 1,\n",
              "         'Gr…': 1,\n",
              "         'tedeschi!': 1,\n",
              "         'Darwinday': 1,\n",
              "         'peridirittiumani': 1,\n",
              "         'confiscarla': 1,\n",
              "         'Tweet…': 1,\n",
              "         'Disperazione.per': 1,\n",
              "         'Fiorere': 1,\n",
              "         '!!diventato': 1,\n",
              "         'casalombroso': 1,\n",
              "         '!il': 1,\n",
              "         'Attracchi': 1,\n",
              "         'Pronunciato.siamo': 1,\n",
              "         'siarrangino': 1,\n",
              "         'salvinimmerda': 1,\n",
              "         'rimpatrio+@dg@dg': 1,\n",
              "         'islammigranti': 1,\n",
              "         'mauela': 1,\n",
              "         ':fate': 1,\n",
              "         'nocaseairom': 1,\n",
              "         'sicuramen…': 1,\n",
              "         'piazzadelpopolo': 1,\n",
              "         'rasserenarli': 1,\n",
              "         'Gasr': 1,\n",
              "         'Condivisione🔴': 1,\n",
              "         'restiamoumani': 1,\n",
              "         '🤔💥🇮': 1,\n",
              "         'Movimentonesti': 1,\n",
              "         '@dg@dg.@dg@dg@dg.@dg@dg@dg:@dg=@dg': 1,\n",
              "         'te…': 1,\n",
              "         'violentator': 1,\n",
              "         'Amisdenicolas': 1,\n",
              "         'Lapacchia': 1,\n",
              "         'filoislam': 1,\n",
              "         'Obblighisiamo': 1,\n",
              "         '-i-migranti': 1,\n",
              "         'e…': 1,\n",
              "         'salvinati': 1,\n",
              "         '-teheran': 1,\n",
              "         'nonpagoaffitto': 1,\n",
              "         'Arrestacitutti': 1,\n",
              "         '🙄🤔🤨': 1,\n",
              "         'sua😀': 1,\n",
              "         'Dalibro': 1,\n",
              "         'Wlitalia': 1,\n",
              "         'migranti/immirati': 1,\n",
              "         '↪mattielli': 1,\n",
              "         'Fuoridalcoro': 1,\n",
              "         'moderatiuncazzo': 1,\n",
              "         '“rabbia': 1,\n",
              "         'Bene.a': 1,\n",
              "         'portargl': 1,\n",
              "         'stranieri@dg@dg': 1,\n",
              "         'com…': 1,\n",
              "         'Buttassero': 1,\n",
              "         'palmeti': 1,\n",
              "         'Bremme': 1,\n",
              "         'evangelizzati': 1,\n",
              "         'Bddocumenta': 1,\n",
              "         'animalu': 1,\n",
              "         'giornatadellamemoria': 1,\n",
              "         'accoglienzabussiness': 1,\n",
              "         'Mylifeproject': 1,\n",
              "         'Cladestini.e': 1,\n",
              "         'r…': 1,\n",
              "         '!!svegliaaaa': 1,\n",
              "         'Girailmondo': 1,\n",
              "         'iostoconmimmolucano': 1,\n",
              "         'Clandstini': 1,\n",
              "         'fullbrexit': 1,\n",
              "         '•rifondazione': 1,\n",
              "         'prrseguire': 1,\n",
              "         'Torturatore': 1,\n",
              "         \"Sara'\": 1,\n",
              "         'Iostocon': 1,\n",
              "         'Caproneeeeeeee': 1,\n",
              "         'Ingabbiano': 1,\n",
              "         'cattosinixtri': 1,\n",
              "         'Nabellezza': 1,\n",
              "         'migrante/e': 1,\n",
              "         'musulm…': 1,\n",
              "         'scimmiese': 1,\n",
              "         'Fortlauderdale': 1,\n",
              "         'infibulato': 1,\n",
              "         'cerise': 1,\n",
              "         'accusadi': 1,\n",
              "         'Noiimbecille': 1,\n",
              "         'iovotosalvini': 1,\n",
              "         'accollarseli': 1,\n",
              "         'islam…': 1,\n",
              "         'movimentionesti': 1,\n",
              "         'Italiani(': 1,\n",
              "         'rom(': 1,\n",
              "         'Saype': 1,\n",
              "         'fugito': 1,\n",
              "         'Giorno,': 1,\n",
              "         'Ingabbiate': 1,\n",
              "         'infibulano': 1,\n",
              "         'Tradizionio': 1,\n",
              "         'Rubare.': 1,\n",
              "         'Anno.per': 1,\n",
              "         'l’': 1,\n",
              "         '+roma': 1,\n",
              "         'brutalita': 1,\n",
              "         '.🙈': 1,\n",
              "         'Humanrights': 1,\n",
              "         'iostoconsalvimimi': 1,\n",
              "         'confondiamoli': 1,\n",
              "         'scuoladella': 1,\n",
              "         'fattrici/serve': 1,\n",
              "         '@dg€': 1,\n",
              "         'e´': 1,\n",
              "         'Arms».e': 1,\n",
              "         'Italiagrande': 1,\n",
              "         'pavlovich': 1,\n",
              "         'cacheremo': 1,\n",
              "         'Enez': 1,\n",
              "         'Tonycapuozzo': 1,\n",
              "         'islam🕌': 1,\n",
              "         'descrittoci': 1,\n",
              "         \"perche'\": 1,\n",
              "         'paceintutteleterre': 1,\n",
              "         'Ilcapoluogo': 1,\n",
              "         'Nuostr': 1,\n",
              "         'Politicacondiviso': 1,\n",
              "         '🤮🤮🤮🤮🤮': 1,\n",
              "         'Gia’': 1,\n",
              "         'Zarzis': 1,\n",
              "         'b…': 1,\n",
              "         ':stop': 1,\n",
              "         'terrosristi': 1,\n",
              "         'Ssgiovanni': 1,\n",
              "         'Immigrati-': 1,\n",
              "         'pur…': 1,\n",
              "         'bastaimmigrazione': 1,\n",
              "         'Alors!': 1,\n",
              "         'Rlm@dg@dg@dg@dg': 1,\n",
              "         'sorosiane': 1,\n",
              "         'castrarci': 1,\n",
              "         'سلام': 1,\n",
              "         'leggedallavostraparte': 1,\n",
              "         'Alil': 1,\n",
              "         'inimicizza': 1,\n",
              "         'Nazionele': 1,\n",
              "         'Iostoconsalvini': 1,\n",
              "         'Salvini(': 1,\n",
              "         'mastropoietro': 1,\n",
              "         '!!fossero': 1,\n",
              "         'nient’': 1,\n",
              "         'canaledisicilia': 1,\n",
              "         'Acclarata': 1,\n",
              "         '��������������magna': 1,\n",
              "         'Khalidmasood': 1,\n",
              "         'inmezzora': 1,\n",
              "         'Italia,': 1,\n",
              "         '+ne': 1,\n",
              "         'Xsmax': 1,\n",
              "         'islamreligionedipace': 1,\n",
              "         '👉🏾': 1,\n",
              "         'ridistrubuzione': 1,\n",
              "         'barbarians': 1,\n",
              "         '🤫piddini': 1,\n",
              "         'Galmozzi': 1,\n",
              "         \"Puo'\": 1,\n",
              "         'rispettr': 1,\n",
              "         'Romeni!': 1,\n",
              "         'sceglieredagrande': 1,\n",
              "         'Fedelibasta': 1,\n",
              "         'nascondimenti': 1,\n",
              "         'propagandaitalia': 1,\n",
              "         'Slarp😁': 1,\n",
              "         'Flaminio/': 1,\n",
              "         'unodiporticichetifajuve': 1,\n",
              "         'Regahliamo': 1,\n",
              "         'fanagni': 1,\n",
              "         'Notizie_milano': 1,\n",
              "         'Svegliamoci!': 1,\n",
              "         'Novoli…': 1,\n",
              "         'Ong’s': 1,\n",
              "         'Romb': 1,\n",
              "         'jnews': 1,\n",
              "         '!scoperti': 1,\n",
              "         'Dirittile': 1,\n",
              "         'leggitimadifesa': 1,\n",
              "         'Ong,': 1,\n",
              "         'Controlli.e': 1,\n",
              "         'Libano(': 1,\n",
              "         '-jihadisti': 1,\n",
              "         'labelmondo': 1,\n",
              "         '🤨😟😡😡😡😡🇮🇹🇮🇹🇮🇹✌️': 1,\n",
              "         'distruggendoli': 1,\n",
              "         'reatodiumanità': 1,\n",
              "         'Tg@dg@dgnotizie': 1,\n",
              "         'Indignarviper': 1,\n",
              "         'Si…certo': 1,\n",
              "         '-narrazione': 1,\n",
              "         'leader-rom': 1,\n",
              "         'cazzoi': 1,\n",
              "         'Difenderle': 1,\n",
              "         'euromani': 1,\n",
              "         '😆loro': 1,\n",
              "         'viverfe': 1,\n",
              "         'vampo': 1,\n",
              "         'liportasse': 1,\n",
              "         'ignorantismo': 1,\n",
              "         'Uncazzo': 1,\n",
              "         'islamistheproblem': 1,\n",
              "         '!brava': 1,\n",
              "         'ijaidisti': 1,\n",
              "         'Centrisociali': 1,\n",
              "         \"spadroneggera'\": 1,\n",
              "         'lelupe': 1,\n",
              "         'so…': 1,\n",
              "         '~riportare': 1,\n",
              "         'p)': 1,\n",
              "         'giletgialli': 1,\n",
              "         'de\"': 1,\n",
              "         'deiterroristi': 1,\n",
              "         'Tg@dgdicono': 1,\n",
              "         '#“regina': 1,\n",
              "         'Clandestini,': 1,\n",
              "         'violenzasulledonne': 1,\n",
              "         'lurlo': 1,\n",
              "         \"puo'\": 1,\n",
              "         '=\\\\=': 1,\n",
              "         \"fa'\": 1,\n",
              "         'Grandesynthe': 1,\n",
              "         \"e'\": 1,\n",
              "         'Fiasché': 1,\n",
              "         'pisapiade': 1,\n",
              "         'Stazionecentrale': 1,\n",
              "         'casteldaccia': 1,\n",
              "         'coffeebreakla': 1,\n",
              "         'Occupanti,': 1,\n",
              "         'gipsyqueens': 1,\n",
              "         '!natalesiriano': 1,\n",
              "         'C.a.r.i.t.a.s.': 1,\n",
              "         'famiglie…': 1,\n",
              "         'Spartivano': 1,\n",
              "         'Selfini': 1,\n",
              "         'Palerm…': 1,\n",
              "         'Filo-': 1,\n",
              "         'Pa…': 1,\n",
              "         'Censissii': 1,\n",
              "         'babbeate': 1,\n",
              "         'immgrazionenordafricani': 1,\n",
              "         'Italiani!': 1,\n",
              "         \"po'\": 1,\n",
              "         'sudura': 1,\n",
              "         'massacrabili': 1,\n",
              "         'Globalcompact': 1,\n",
              "         'Culoper': 1,\n",
              "         '🤐🤬': 1,\n",
              "         'Danneggiamenti,': 1,\n",
              "         'un…': 1,\n",
              "         'scimmieperchè': 1,\n",
              "         '-magna': 1,\n",
              "         'romena…': 1,\n",
              "         'Bestat': 1,\n",
              "         'Re-': 1,\n",
              "         '😊👍': 1,\n",
              "         'decina!!': 1,\n",
              "         '-colle': 1,\n",
              "         'Convertirgli': 1,\n",
              "         '@dg@dg@dg€/mese': 1,\n",
              "         'Merda.portali': 1,\n",
              "         'Cristianiperseguitati': 1,\n",
              "         'Clan-de-sti-': 1,\n",
              "         'Decretosalvini': 1,\n",
              "         'casabianca': 1,\n",
              "         'Nopd': 1,\n",
              "         'giornorimangono': 1,\n",
              "         'skyfopd@dg@dg': 1,\n",
              "         'Pdote': 1,\n",
              "         'Radiorpl': 1,\n",
              "         'buonisti🤡': 1,\n",
              "         '-voluto': 1,\n",
              "         'trump!evitiamo': 1,\n",
              "         'Pre…': 1,\n",
              "         '-agenti': 1,\n",
              "         '🔴roma,@dgesercito': 1,\n",
              "         'integrazionemigranti': 1,\n",
              "         'iostoconsalvini': 1,\n",
              "         'Decreto@dg': 1,\n",
              "         'volontario+@dg@dg@dg': 1,\n",
              "         'anch’': 1,\n",
              "         'Un’': 1,\n",
              "         'vergogna👎👎👎👎👎👎': 1,\n",
              "         'quaranetenni': 1,\n",
              "         'inmersa': 1,\n",
              "         'amagistrale': 1,\n",
              "         '”zanzara': 1,\n",
              "         '-vogliono': 1,\n",
              "         'estremi…': 1,\n",
              "         'Responsabilitàsoggettiva': 1,\n",
              "         'Bivaccare': 1,\n",
              "         '😡😡😡😡': 1,\n",
              "         '“@dg': 1,\n",
              "         'rispediscano': 1,\n",
              "         'occhi!': 1,\n",
              "         '/aumentare': 1,\n",
              "         'Islamicstate': 1,\n",
              "         'compact.': 1,\n",
              "         'in+': 1,\n",
              "         'fatepresto': 1,\n",
              "         'Bonusbeb': 1,\n",
              "         'Ebree': 1,\n",
              "         'Braccialettoelettronico': 1,\n",
              "         'Aleppolibera': 1,\n",
              "         'djffondetelo': 1,\n",
              "         'Chilavisto': 1,\n",
              "         'immigrazione/rom': 1,\n",
              "         'occultandoli': 1,\n",
              "         \"Da'\": 1,\n",
              "         'branco/': 1,\n",
              "         'Sispara': 1,\n",
              "         '✍redazionale': 1,\n",
              "         '!!forse': 1,\n",
              "         'etnicamen*e': 1,\n",
              "         'di@dg@dg@dg@dganni': 1,\n",
              "         'caraibes': 1,\n",
              "         'C.i.e': 1,\n",
              "         'berlinattacks': 1,\n",
              "         'Lavorono': 1,\n",
              "         'Economici!': 1,\n",
              "         'Vushaj': 1,\n",
              "         'X:@dg@dg': 1,\n",
              "         'Invitati.': 1,\n",
              "         'cambiaresipuò': 1,\n",
              "         '!dovrebbe': 1,\n",
              "         'comportono': 1,\n",
              "         'Agim': 1,\n",
              "         'roma…': 1,\n",
              "         \"Verra'\": 1,\n",
              "         '/ricerca': 1,\n",
              "         'esiste!': 1,\n",
              "         'lampidipoesia': 1,\n",
              "         '/romni': 1,\n",
              "         'Matiasromany': 1,\n",
              "         '‘l’': 1,\n",
              "         'Ilcaos': 1,\n",
              "         \"fu'\": 1,\n",
              "         'Coca_party': 1,\n",
              "         'Negroidi': 1,\n",
              "         'condizionarle': 1,\n",
              "         'espelleteli': 1,\n",
              "         'sxhiacizzazione': 1,\n",
              "         ':dice': 1,\n",
              "         'quartarepubblicamigrante': 1,\n",
              "         'Ingannoparassiti': 1,\n",
              "         'lesbica\\\\': 1,\n",
              "         'qs.bastardi': 1,\n",
              "         'attentiallislam…': 1,\n",
              "         '!vogliono': 1,\n",
              "         'providenziali=': 1,\n",
              "         'Slarp': 1,\n",
              "         ':sappiamo': 1,\n",
              "         'aicds': 1,\n",
              "         'yacme': 1,\n",
              "         'cosegnati': 1,\n",
              "         'Anni…': 1,\n",
              "         'musulmania': 1,\n",
              "         'corridoi…': 1,\n",
              "         'Relion': 1,\n",
              "         \"Don't\": 1,\n",
              "         'No.m@dg': 1,\n",
              "         \"te'\": 1,\n",
              "         'Refurtivama.chi': 1,\n",
              "         'Alfano/renzi': 1,\n",
              "         'iostocondavideraggi': 1,\n",
              "         'Pietà!': 1,\n",
              "         'doc!': 1,\n",
              "         'pisqua': 1,\n",
              "         'malvedenti': 1,\n",
              "         'conksciuto': 1,\n",
              "         'Omicide': 1,\n",
              "         'Incitamento=terrorismo': 1,\n",
              "         '!se': 1,\n",
              "         'dia…': 1,\n",
              "         'L@dg@dg@dg@dg@dg@dg': 1,\n",
              "         'Reynitalia': 1,\n",
              "         'sudico': 1,\n",
              "         'Occidente!': 1,\n",
              "         \"che'\": 1,\n",
              "         'E’': 1,\n",
              "         'Siamotuttirazzisti': 1,\n",
              "         'Salvini“': 1,\n",
              "         'Droga!!lo': 1,\n",
              "         'Canaaniti': 1,\n",
              "         'Primagli': 1,\n",
              "         ':cittadini': 1,\n",
              "         ':fogna': 1,\n",
              "         'euro,@dg@dg@dg': 1,\n",
              "         'migranteuscite': 1,\n",
              "         '•@dg@dg/@dg@dg/@dg@dg': 1,\n",
              "         '!combattiamo': 1,\n",
              "         'weddingtourism': 1,\n",
              "         'Lavorare?giusto': 1,\n",
              "         '@dg@dg@dg@dg€/mese': 1,\n",
              "         'riscopriamoli': 1,\n",
              "         'Zingariii': 1,\n",
              "         'Autorità.porti': 1,\n",
              "         '🤣🤣': 1,\n",
              "         '!!ma': 1,\n",
              "         'rom\"': 1,\n",
              "         'Usa-corea': 1,\n",
              "         'Foto+': 1,\n",
              "         'dall’': 1,\n",
              "         'Inguerra': 1,\n",
              "         '🤣🤣🤣😂😂😂😁😁😁': 1,\n",
              "         'Deficienze': 1,\n",
              "         'Pochiiiii': 1,\n",
              "         'Incompatibiltà': 1,\n",
              "         'Trattatiroma': 1,\n",
              "         'ore…': 1,\n",
              "         '”matte’': 1,\n",
              "         'regressività': 1,\n",
              "         'Adessotutti': 1,\n",
              "         '!capito': 1,\n",
              "         'irregolaro': 1,\n",
              "         'Antidemocraticocalpesta': 1,\n",
              "         'iovoto': 1,\n",
              "         '++': 1,\n",
              "         'buonenotizie': 1,\n",
              "         'mediocro': 1,\n",
              "         'maleminore': 1,\n",
              "         'Pensioni\"': 1,\n",
              "         ':cdm': 1,\n",
              "         ':danno': 1,\n",
              "         '😡❗️nessuno': 1,\n",
              "         '😁😁': 1,\n",
              "         'Aapds': 1,\n",
              "         'ultraricchi': 1,\n",
              "         '-porti': 1,\n",
              "         'Schmidt-': 1,\n",
              "         'macronpagliaccio': 1,\n",
              "         '💃💃💃👉': 1,\n",
              "         'Satanism': 1,\n",
              "         '”non': 1,\n",
              "         'Grandenon': 1,\n",
              "         'migranti…': 1,\n",
              "         'convinvono': 1,\n",
              "         'si�����': 1,\n",
              "         'Nienteo': 1,\n",
              "         ':delusi': 1,\n",
              "         '😄😄😄': 1,\n",
              "         'Animebelle': 1,\n",
              "         'lavanguardia': 1,\n",
              "         'metoo': 1,\n",
              "         'M@dgs=': 1,\n",
              "         'Governopd': 1,\n",
              "         'amici/': 1,\n",
              "         'grilloparici': 1,\n",
              "         'stranieri(': 1,\n",
              "         '!leggi': 1,\n",
              "         'salvininapoli': 1,\n",
              "         'emariottini': 1,\n",
              "         '!loro': 1,\n",
              "         '🤮': 1,\n",
              "         'd@dgvono': 1,\n",
              "         'Imaam': 1,\n",
              "         '️possiamo': 1,\n",
              "         'Globalismo': 1,\n",
              "         'Davidegerbino': 1,\n",
              "         'soddisfandoli': 1,\n",
              "         'disitegreranno': 1,\n",
              "         'lab\"': 1,\n",
              "         'Respiriamo.': 1,\n",
              "         'bagarotti': 1,\n",
              "         'Mortificando': 1,\n",
              "         '+agevolmente': 1,\n",
              "         'furbettidelcartellino': 1,\n",
              "         'datiadminchiam': 1,\n",
              "         'Soonooo': 1,\n",
              "         'Sx=': 1,\n",
              "         'Faranno.': 1,\n",
              "         'sicurezzagrazie': 1,\n",
              "         '😆nn': 1,\n",
              "         'Nonlasciamoli': 1,\n",
              "         'quartarepubblica': 1,\n",
              "         'Tonti⁉': 1,\n",
              "         'Espressio': 1,\n",
              "         'pretedono': 1,\n",
              "         '-sovrastimato': 1,\n",
              "         'Presenza.non': 1,\n",
              "         \".c'\": 1,\n",
              "         'Carnevalevenezia@dg@dg@dg@dg': 1,\n",
              "         'noban': 1,\n",
              "         'profughisiriani': 1,\n",
              "         '++++': 1,\n",
              "         \"vabbe'\": 1,\n",
              "         'lineatelenova': 1,\n",
              "         '😣😣': 1,\n",
              "         '!questa': 1,\n",
              "         'Anci_comunic…': 1,\n",
              "         '!porci': 1,\n",
              "         'msna': 1,\n",
              "         'lottomarzo': 1,\n",
              "         'Bogaboxi': 1,\n",
              "         'Afroislamica': 1,\n",
              "         'no…': 1,\n",
              "         'amici@dg@dgamiciuncazzo': 1,\n",
              "         'Manifestazionii': 1,\n",
              "         'Metidate': 1,\n",
              "         '@dg€/ora': 1,\n",
              "         'anticamion': 1,\n",
              "         'Siria🇸🇾': 1,\n",
              "         'mult…': 1,\n",
              "         'cuiconcordo': 1,\n",
              "         'pen…': 1,\n",
              "         '?o': 1,\n",
              "         '.🤮🤮': 1,\n",
              "         'afferrali': 1,\n",
              "         'su!': 1,\n",
              "         'organizzandoli': 1,\n",
              "         'Dropmire': 1,\n",
              "         'ladigetto': 1,\n",
              "         'confinerà': 1,\n",
              "         'terroristiislamici': 1,\n",
              "         'torcervara': 1,\n",
              "         'assegnamento': 1,\n",
              "         'tagadala@dg': 1,\n",
              "         ':risultato': 1,\n",
              "         'profughisiria': 1,\n",
              "         'Ridiventano': 1,\n",
              "         '😬😳😩😤': 1,\n",
              "         'Ruspetta': 1,\n",
              "         'monicacerutti': 1,\n",
              "         '����peccato': 1,\n",
              "         'Situazione!': 1,\n",
              "         'minoranz…': 1,\n",
              "         'poterealpopolo': 1,\n",
              "         'Nonato…': 1,\n",
              "         'corridoumanitari': 1,\n",
              "         'veletti': 1,\n",
              "         '!sulla': 1,\n",
              "         'mettetecilafaccia': 1,\n",
              "         'sbanchino': 1,\n",
              "         'Sgozzatori.l': 1,\n",
              "         \"interferi'\": 1,\n",
              "         'sfidalacorrente': 1,\n",
              "         'delll’': 1,\n",
              "         'Brecce…': 1,\n",
              "         'Costruzionie': 1,\n",
              "         'Pooochiiìi': 1,\n",
              "         'Sudcoreani': 1,\n",
              "         'fakenews': 1,\n",
              "         'poligamici': 1,\n",
              "         'islammoderato': 1,\n",
              "         'Maglietterosse': 1,\n",
              "         'antyi': 1,\n",
              "         'attentatori/terroristi': 1,\n",
              "         '—': 1,\n",
              "         'azizi': 1,\n",
              "         'Tr-': 1,\n",
              "         \"Santita'\": 1,\n",
              "         '-stranieri': 1,\n",
              "         '-razzista': 1,\n",
              "         'Piagnisteipensate': 1,\n",
              "         'mygranti': 1,\n",
              "         'randellino': 1,\n",
              "         'Popefrancis': 1,\n",
              "         'indifendibi…': 1,\n",
              "         '.🤣': 1,\n",
              "         '🔴massima': 1,\n",
              "         '-islamici': 1,\n",
              "         'Pakista': 1,\n",
              "         'braaaaaavi': 1,\n",
              "         'paura/disgusto': 1,\n",
              "         'in🇮🇹mantenuto': 1,\n",
              "         'derubò': 1,\n",
              "         'Qaria': 1,\n",
              "         'Squartano': 1,\n",
              "         'Sei.traditore': 1,\n",
              "         'inte…': 1,\n",
              "         'Nuo…': 1,\n",
              "         'Inbarcarsi': 1,\n",
              "         'soluzionefinale': 1,\n",
              "         'Tagadala@dg': 1,\n",
              "         'estirp…': 1,\n",
              "         '▶✳️lmmcompanyfull': 1,\n",
              "         \".l'\": 1,\n",
              "         '+++++': 1,\n",
              "         'Giuanturco': 1,\n",
              "         '!!🇮🇹': 1,\n",
              "         'q.maschera': 1,\n",
              "         'Noislamnoglobalcompact': 1,\n",
              "         'Santafamiglia': 1,\n",
              "         'nomadeinfiat': 1,\n",
              "         'gravementne': 1,\n",
              "         'nuoverosorse': 1,\n",
              "         'Camoletti': 1,\n",
              "         '🦅migratori': 1,\n",
              "         'Dell’': 1,\n",
              "         '-demente': 1,\n",
              "         'Dovunquee': 1,\n",
              "         'nomadi:trovate': 1,\n",
              "         'nel💖!': 1,\n",
              "         'stampa@lidl.it': 1,\n",
              "         \"a'\": 1,\n",
              "         'Cristo.la': 1,\n",
              "         'Fedelia': 1,\n",
              "         'calcioinculo': 1,\n",
              "         'ab.su@dg': 1,\n",
              "         'chiccosì': 1,\n",
              "         'Zero!ora': 1,\n",
              "         'judei': 1,\n",
              "         'Andatevenenon': 1,\n",
              "         'Labàs': 1,\n",
              "         'Migranti.avete': 1,\n",
              "         'noimmigrati': 1,\n",
              "         'Favelaspertutti': 1,\n",
              "         'annidipiombo': 1,\n",
              "         'cimbro': 1,\n",
              "         'Aasiabibi': 1,\n",
              "         'sanpietroburgo': 1,\n",
              "         'Immigrazione.': 1,\n",
              "         'Cervelliinfuga': 1,\n",
              "         'Islammoderato': 1,\n",
              "         \"Liberta'\": 1,\n",
              "         'culturasuperiore': 1,\n",
              "         'Europa-': 1,\n",
              "         'Nazionesolo': 1,\n",
              "         'Confinbanche': 1,\n",
              "         '”sequestro': 1,\n",
              "         'Roma-': 1,\n",
              "         'Stavavo': 1,\n",
              "         'profughiuncazzo': 1,\n",
              "         '!buffona': 1,\n",
              "         'Genitalici': 1,\n",
              "         \"Percio'\": 1,\n",
              "         'Notorio': 1,\n",
              "         'antocostituzionale': 1,\n",
              "         'e`': 1,\n",
              "         '!pensassero': 1,\n",
              "         'Migrantiè': 1,\n",
              "         'Islamici.': 1,\n",
              "         'Filcamscollettiva': 1,\n",
              "         'bestsongofmovie': 1,\n",
              "         'cyberwarfare': 1,\n",
              "         'degliimmigrati': 1,\n",
              "         '‘militare': 1,\n",
              "         '��������������': 1,\n",
              "         'Domani!': 1,\n",
              "         'Unadimeno': 1,\n",
              "         'Tornerebbero': 1,\n",
              "         'Dall’': 1,\n",
              "         '$clandestini': 1,\n",
              "         'Ls/l@dg': 1,\n",
              "         'islam!': 1,\n",
              "         'aggiornarci!👍🏼': 1,\n",
              "         'pattuglie…': 1,\n",
              "         'autoxenofobi': 1,\n",
              "         'incendiaro': 1,\n",
              "         'Lʼ': 1,\n",
              "         'Laltrafaenza': 1,\n",
              "         '•associazione': 1,\n",
              "         ':i': 1,\n",
              "         'tardi!': 1,\n",
              "         '😔non': 1,\n",
              "         'Chiudervi': 1,\n",
              "         'Anticostituzionaleè': 1,\n",
              "         'ment.': 1,\n",
              "         'roncola…': 1,\n",
              "         '️hanno': 1,\n",
              "         'Guerramai': 1,\n",
              "         '•': 1,\n",
              "         'L\\\\': 1,\n",
              "         'Bep…': 1,\n",
              "         'facc…': 1,\n",
              "         'grav…': 1,\n",
              "         'rapinata+uccisa': 1,\n",
              "         '@dg°mun': 1,\n",
              "         'Italiatu': 1,\n",
              "         'Libia!': 1,\n",
              "         'castelromano': 1,\n",
              "         'Mabota': 1,\n",
              "         'lariachetirala': 1,\n",
              "         '✳️': 1,\n",
              "         'Noi,': 1,\n",
              "         '/invasione': 1,\n",
              "         'merkel:aiuti': 1,\n",
              "         'perdu…': 1,\n",
              "         'religiosi/giuridici': 1,\n",
              "         \"Verita'\": 1,\n",
              "         'agor…': 1,\n",
              "         'isterichino': 1,\n",
              "         'spread!': 1,\n",
              "         'Erostraniero': 1,\n",
              "         '😡😡😡': 1,\n",
              "         'agorai': 1,\n",
              "         '@dg@dg@dgebrei': 1,\n",
              "         'sf…': 1,\n",
              "         'Boldriniricoverati': 1,\n",
              "         'asilio': 1,\n",
              "         'lariachetirala@dg': 1,\n",
              "         'cacciamolivia': 1,\n",
              "         'monologale': 1,\n",
              "         'dominare!ma': 1,\n",
              "         'razzzzzista': 1,\n",
              "         'sociali/pensionistici': 1,\n",
              "         'rom’': 1,\n",
              "         'br/&gt': 1,\n",
              "         'Vogliamogli': 1,\n",
              "         'Nulla.__coglioni': 1,\n",
              "         'sharja': 1,\n",
              "         'alors!': 1,\n",
              "         's’': 1,\n",
              "         '🤬': 1,\n",
              "         'Ass@dg@dg': 1,\n",
              "         ':antirazzista!': 1,\n",
              "         ':berlusca': 1,\n",
              "         'doveri!': 1,\n",
              "         'bastainvasione': 1,\n",
              "         'Hawala': 1,\n",
              "         'allʼ': 1,\n",
              "         'Stopimmigration': 1,\n",
              "         \"Poverta'\": 1,\n",
              "         '@dgattualita': 1,\n",
              "         'Capire(': 1,\n",
              "         '-profit': 1,\n",
              "         'autirizzare': 1,\n",
              "         'Roma…': 1,\n",
              "         'Dortmund\\\\n': 1,\n",
              "         'Ahuahuahuahuahua': 1,\n",
              "         'malamorte': 1,\n",
              "         'Ma-': 1,\n",
              "         'tuquanta': 1,\n",
              "         'chiudiamoiporti': 1,\n",
              "         'Asiabibi': 1,\n",
              "         '-tunisia': 1,\n",
              "         'Giustizia.😡': 1,\n",
              "         'Pdvergognanazionale': 1,\n",
              "         'tutti…': 1,\n",
              "         'Migrantemagnatranquillo': 1,\n",
              "         'business,': 1,\n",
              "         'cyberthreats': 1,\n",
              "         'islamisdeath': 1,\n",
              "         'Promo_': 1,\n",
              "         'sposebambine': 1,\n",
              "         'danoso': 1,\n",
              "         'sempretreottobre': 1,\n",
              "         'profugo…': 1,\n",
              "         'Randieri': 1,\n",
              "         'Esatto!!': 1,\n",
              "         'Maisicurezza': 1,\n",
              "         'Aiutoamoli': 1,\n",
              "         'Synthe': 1,\n",
              "         'Ribellimoderati': 1,\n",
              "         'Infibulazioni': 1,\n",
              "         'Lenostretradizioni': 1,\n",
              "         'comdiscriminate': 1,\n",
              "         'Noalterrorismo': 1,\n",
              "         '-programma': 1,\n",
              "         'porci/infedeli': 1,\n",
              "         'blocconavalesubito': 1,\n",
              "         \"Illegalita'\": 1,\n",
              "         '🤦\\u200d♀': 1,\n",
              "         '🤢🤢👿👿': 1,\n",
              "         'Ue/renzi': 1,\n",
              "         '😄😄': 1,\n",
              "         'bananalandia': 1,\n",
              "         'Rispediró': 1,\n",
              "         'gazebonapule': 1,\n",
              "         'reggiosera': 1,\n",
              "         'nessunotocchitoninelli': 1,\n",
              "         'Cessava': 1,\n",
              "         'lorodallavostraparte': 1,\n",
              "         'Siriavive': 1,\n",
              "         'ilfaroonline': 1,\n",
              "         'Digiacinto': 1,\n",
              "         'antislamista': 1,\n",
              "         '.diminuzione': 1,\n",
              "         '-migranti': 1,\n",
              "         'Paese!': 1,\n",
              "         'Riepire': 1,\n",
              "         'staderaitalia': 1,\n",
              "         'Milanoèmemoria': 1,\n",
              "         'itayper': 1,\n",
              "         'panicoincittà': 1,\n",
              "         'benemerit': 1,\n",
              "         '🔴aggiornamentocome': 1,\n",
              "         'itali…': 1,\n",
              "         '-italiano': 1,\n",
              "         'Lobbydeicamper': 1,\n",
              "         'infolibera': 1,\n",
              "         'inpericolo': 1,\n",
              "         'ppartamento': 1,\n",
              "         'negriera': 1,\n",
              "         'cuore…': 1,\n",
              "         'acamilleri': 1,\n",
              "         'c***': 1,\n",
              "         '!basta': 1,\n",
              "         'Umaniquando': 1,\n",
              "         'Reo-confesse': 1,\n",
              "         'Mafianigeriana': 1,\n",
              "         '🤫': 1,\n",
              "         'manteret': 1,\n",
              "         'stopjihad': 1,\n",
              "         'invasoone': 1,\n",
              "         'Stradatutte': 1,\n",
              "         'maxirata': 1,\n",
              "         'Compatiti': 1,\n",
              "         '@dg°orizzonte': 1,\n",
              "         'Civil-migranti': 1,\n",
              "         'Pontercorvo': 1,\n",
              "         '…….': 1,\n",
              "         'rom!': 1,\n",
              "         '-besiktas���': 1,\n",
              "         '!tornate': 1,\n",
              "         'cesanomaderno': 1,\n",
              "         \"anni'@dg@dg\": 1,\n",
              "         '😈😭': 1,\n",
              "         'Sa…': 1,\n",
              "         '!pedofilia': 1,\n",
              "         'Alzamuri': 1,\n",
              "         'ottenebramento': 1,\n",
              "         'abbassero': 1,\n",
              "         'Sardone.': 1,\n",
              "         'Italia!': 1,\n",
              "         'clandestini:@dg': 1,\n",
              "         'schederei': 1,\n",
              "         '/@dg@dg@dg@dg@dg@dg@dg': 1,\n",
              "         'com’': 1,\n",
              "         \"Mostri'\": 1,\n",
              "         'gabibbi': 1,\n",
              "         'leoncavallino': 1,\n",
              "         'elargivano': 1,\n",
              "         'Salvinidimettiti': 1,\n",
              "         'noimmigratiinbasilicata': 1,\n",
              "         'Pd!movimentonesti': 1,\n",
              "         'lidlfollonica': 1,\n",
              "         'Imputazioni': 1,\n",
              "         'offerto@dg': 1,\n",
              "         'Allontaniamoli': 1,\n",
              "         'Malattie!e': 1,\n",
              "         '-migrante': 1,\n",
              "         'Abibi': 1,\n",
              "         'Playhitmusic': 1,\n",
              "         'o…': 1,\n",
              "         'matrattano': 1,\n",
              "         'sull?': 1,\n",
              "         'Cos’': 1,\n",
              "         'Lemlem-': 1,\n",
              "         'fuckislam': 1,\n",
              "         'Aguzzino': 1,\n",
              "         'Trentarispettare': 1,\n",
              "         'afroislamiche': 1,\n",
              "         'storiavera': 1,\n",
              "         'Iuventa': 1,\n",
              "         'Europa!': 1,\n",
              "         'Caping': 1,\n",
              "         \"stranieri'\": 1,\n",
              "         'it]': 1,\n",
              "         'pierremoscovici': 1,\n",
              "         'sessodebole': 1,\n",
              "         'Assassini,': 1,\n",
              "         'terroristiradicalizzati': 1,\n",
              "         'sceleris': 1,\n",
              "         'Ripijam': 1,\n",
              "         'complicedi': 1,\n",
              "         '€/die': 1,\n",
              "         'Stop!': 1,\n",
              "         'Onisto': 1,\n",
              "         'Salvinivergogna': 1,\n",
              "         '!!👍👍👏👏': 1,\n",
              "         \"Rassegnatevi.all'\": 1,\n",
              "         'quell’': 1,\n",
              "         'Delinquentivoglio': 1,\n",
              "         'dovreste@dg': 1,\n",
              "         'Widmannmauz': 1,\n",
              "         'Labarbuta': 1,\n",
              "         'de’': 1,\n",
              "         'malattie&gt': 1,\n",
              "         '-clandestini': 1,\n",
              "         'os…': 1,\n",
              "         'Idioti,': 1,\n",
              "         'Invasione.': 1,\n",
              "         'garntirci': 1,\n",
              "         'dare…': 1,\n",
              "         'dall…': 1,\n",
              "         'inostrivalori': 1,\n",
              "         'vogliounarisposta': 1,\n",
              "         'Scopo❓': 1,\n",
              "         'Soundcity': 1,\n",
              "         'mezziladri': 1,\n",
              "         '️basta': 1,\n",
              "         'Vitsas': 1,\n",
              "         'filippobubbico': 1,\n",
              "         ...})"
            ]
          },
          "metadata": {},
          "execution_count": 130
        }
      ]
    },
    {
      "cell_type": "markdown",
      "source": [
        "All OOV words only appear once. At closer inspection, most of them seem to be caused by hashtags (characterized by the lack of seaparation between the words, failed tokenization (especially of repeated emojiis and of punctuation) and typos."
      ],
      "metadata": {
        "id": "Zz3viur2mDls"
      }
    },
    {
      "cell_type": "markdown",
      "source": [
        "#Feature Extraction\n"
      ],
      "metadata": {
        "id": "Lu23cA0l99oW"
      }
    },
    {
      "cell_type": "markdown",
      "source": [
        "##Averaging word embeddings\n",
        "We'll represent each tweet by aggreagating the embeddings of its tokens.\n",
        "\n",
        "\n",
        "1.   Doc = mean of all its token embeddings\n",
        "2.   Doc = mean of its \"lessically full\" token embeddings\n",
        "3.   Doc = concatenation of the 3 mean vectors of its nouns, verbs and adjectives.\n",
        "\n"
      ],
      "metadata": {
        "id": "f2mjQUbKIYS7"
      }
    },
    {
      "cell_type": "code",
      "source": [
        "def compute_embeddings_mean(document_embeddings):\n",
        "    sum_array = np.sum(document_embeddings, axis=0) #axis=0→media per righe\n",
        "    mean_array = np.divide(sum_array, len(document_embeddings))\n",
        "    return mean_array"
      ],
      "metadata": {
        "id": "xAk76vOsONnW"
      },
      "execution_count": 89,
      "outputs": []
    },
    {
      "cell_type": "code",
      "source": [
        "def compute_all_embeddings_mean(document_tokens):\n",
        "    \"\"\"\n",
        "    1. Doc = mean of all its token embeddings\n",
        "    \"\"\"\n",
        "    document_embeddings = []\n",
        "\n",
        "    for token in document_tokens:\n",
        "        word = token['word']\n",
        "        if word in embeddings:\n",
        "            document_embeddings.append(embeddings[word])\n",
        "\n",
        "    if len(document_embeddings) == 0: #if no words are in the embeddings dict\n",
        "        mean_document_embeddings = np.zeros(128) #128-dimensional vect with only 0s\n",
        "    else:\n",
        "        mean_document_embeddings = compute_embeddings_mean(document_embeddings)\n",
        "    return mean_document_embeddings"
      ],
      "metadata": {
        "id": "hkr-1WovOvcK"
      },
      "execution_count": 90,
      "outputs": []
    },
    {
      "cell_type": "code",
      "source": [
        "def compute_filtered_embeddings_mean(document_tokens):\n",
        "    \"\"\"\n",
        "    2. Doc = mean of its \"lessically full\" token embeddings\n",
        "    \"\"\"\n",
        "    document_embeddings = []\n",
        "\n",
        "    for token in document_tokens:\n",
        "        word = token['word']\n",
        "        pos = token['pos']\n",
        "        if word in embeddings and pos in ['ADJ', 'NOUN', 'VERB']:\n",
        "            document_embeddings.append(embeddings[word])\n",
        "\n",
        "    if len(document_embeddings) == 0:\n",
        "        mean_document_embeddings = np.zeros(128)\n",
        "    else:\n",
        "        mean_document_embeddings = compute_embeddings_mean(document_embeddings)\n",
        "    return mean_document_embeddings"
      ],
      "metadata": {
        "id": "fMhcm99hP02f"
      },
      "execution_count": 91,
      "outputs": []
    },
    {
      "cell_type": "code",
      "source": [
        "def compute_filtered_embeddings_sep_means(document_tokens):\n",
        "    \"\"\"\n",
        "    3. Doc = concatenation of the 3 mean vectors of its nouns, verbs and adjectives.\n",
        "    \"\"\"\n",
        "    pos_groups = {'ADJ': [], 'NOUN': [], 'VERB': []}\n",
        "\n",
        "    # Collect embeddings by POS group\n",
        "    for token in document_tokens:\n",
        "        word, pos = token['word'], token['pos']\n",
        "        if word in embeddings and pos in pos_groups:\n",
        "            pos_groups[pos].append(embeddings[word])\n",
        "\n",
        "    # Compute mean embeddings or default to zeros\n",
        "    mean_embeddings = {\n",
        "        pos: compute_embeddings_mean(pos_groups[pos]) if pos_groups[pos] else np.zeros(128)\n",
        "        for pos in pos_groups\n",
        "    }\n",
        "\n",
        "    # Concatenate all means into a single vector\n",
        "    mean_document_embeddings = np.concatenate(\n",
        "        [mean_embeddings['ADJ'], mean_embeddings['NOUN'], mean_embeddings['VERB']], axis=None\n",
        "    )\n",
        "    return mean_document_embeddings"
      ],
      "metadata": {
        "id": "vrzGOdefR1Kp"
      },
      "execution_count": 92,
      "outputs": []
    },
    {
      "cell_type": "markdown",
      "source": [
        "##Weighted embeddings\n",
        "Use TF-IDF to weigh embeddings"
      ],
      "metadata": {
        "id": "ByMNDUtxS42W"
      }
    },
    {
      "cell_type": "markdown",
      "source": [
        "#Build feature matrix"
      ],
      "metadata": {
        "id": "aeQWqbfzc8qv"
      }
    },
    {
      "cell_type": "code",
      "source": [
        "def extract_features(documents):\n",
        "    dataset_features = []\n",
        "    for document_tokens in documents:\n",
        "        # document_embeddings = compute_all_embeddings_mean(document_tokens)\n",
        "        document_embeddings = compute_filtered_embeddings_mean(document_tokens)\n",
        "        # document_embeddings = compute_filtered_embeddings_sep_means(document_tokens)\n",
        "        dataset_features.append(document_embeddings)\n",
        "    return dataset_features"
      ],
      "metadata": {
        "id": "r1LFM9m_c6ZA"
      },
      "execution_count": 97,
      "outputs": []
    },
    {
      "cell_type": "code",
      "source": [
        "all_features = extract_features(all_documents)"
      ],
      "metadata": {
        "id": "ppDkQMyLdERb"
      },
      "execution_count": 98,
      "outputs": []
    },
    {
      "cell_type": "code",
      "source": [
        "len(all_features), len(all_features[0])\n",
        "#(n. tweets, embeddings' dimensions)"
      ],
      "metadata": {
        "colab": {
          "base_uri": "https://localhost:8080/"
        },
        "id": "yLHL4pD4dQtl",
        "outputId": "30506962-dafe-4f5d-9878-4c0cde7f807b"
      },
      "execution_count": 99,
      "outputs": [
        {
          "output_type": "execute_result",
          "data": {
            "text/plain": [
              "(6837, 128)"
            ]
          },
          "metadata": {},
          "execution_count": 99
        }
      ]
    },
    {
      "cell_type": "markdown",
      "source": [
        "#"
      ],
      "metadata": {
        "id": "AxLlZdLcdfj_"
      }
    },
    {
      "cell_type": "code",
      "source": [],
      "metadata": {
        "id": "A-5pC12GddO_"
      },
      "execution_count": null,
      "outputs": []
    },
    {
      "cell_type": "markdown",
      "source": [
        "# Run experiment: SVM"
      ],
      "metadata": {
        "id": "G9G1tsvJVqAp"
      }
    },
    {
      "cell_type": "markdown",
      "source": [
        "##Normalization"
      ],
      "metadata": {
        "id": "4eL0Oob9WCqs"
      }
    },
    {
      "cell_type": "markdown",
      "source": [
        "##Classification"
      ],
      "metadata": {
        "id": "iAuGZo9gWJgU"
      }
    }
  ]
}