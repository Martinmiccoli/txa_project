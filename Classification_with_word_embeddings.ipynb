{
  "nbformat": 4,
  "nbformat_minor": 0,
  "metadata": {
    "colab": {
      "provenance": [],
      "toc_visible": true,
      "mount_file_id": "19uoTl0oY3jyQSiU2rwWS7lL4DiJz-0Mq",
      "authorship_tag": "ABX9TyMW5x2ZXCfIsxqkhSVRXfhx",
      "include_colab_link": true
    },
    "kernelspec": {
      "name": "python3",
      "display_name": "Python 3"
    },
    "language_info": {
      "name": "python"
    }
  },
  "cells": [
    {
      "cell_type": "markdown",
      "metadata": {
        "id": "view-in-github",
        "colab_type": "text"
      },
      "source": [
        "<a href=\"https://colab.research.google.com/github/g-fabiani4-unipi/txa_project/blob/camilla/Classification_with_word_embeddings.ipynb\" target=\"_parent\"><img src=\"https://colab.research.google.com/assets/colab-badge.svg\" alt=\"Open In Colab\"/></a>"
      ]
    },
    {
      "cell_type": "code",
      "execution_count": 38,
      "metadata": {
        "colab": {
          "base_uri": "https://localhost:8080/"
        },
        "id": "WYGBPEhx-1sn",
        "outputId": "af0f74ec-d2f2-4b8c-8201-c2c3bba268c5"
      },
      "outputs": [
        {
          "output_type": "stream",
          "name": "stdout",
          "text": [
            "fatal: destination path 'txa_project' already exists and is not an empty directory.\n"
          ]
        }
      ],
      "source": [
        "!git clone https://github.com/g-fabiani4-unipi/txa_project.git\n",
        "!cd txa_project"
      ]
    },
    {
      "cell_type": "code",
      "source": [
        "!pip install stanza"
      ],
      "metadata": {
        "colab": {
          "base_uri": "https://localhost:8080/"
        },
        "id": "65VXRGwZPSOw",
        "outputId": "e6d8cb7c-d76b-4161-d51e-74e059d99e6d"
      },
      "execution_count": 39,
      "outputs": [
        {
          "output_type": "stream",
          "name": "stdout",
          "text": [
            "Requirement already satisfied: stanza in /usr/local/lib/python3.10/dist-packages (1.9.2)\n",
            "Requirement already satisfied: emoji in /usr/local/lib/python3.10/dist-packages (from stanza) (2.14.0)\n",
            "Requirement already satisfied: numpy in /usr/local/lib/python3.10/dist-packages (from stanza) (1.26.4)\n",
            "Requirement already satisfied: protobuf>=3.15.0 in /usr/local/lib/python3.10/dist-packages (from stanza) (4.25.5)\n",
            "Requirement already satisfied: requests in /usr/local/lib/python3.10/dist-packages (from stanza) (2.32.3)\n",
            "Requirement already satisfied: networkx in /usr/local/lib/python3.10/dist-packages (from stanza) (3.4.2)\n",
            "Requirement already satisfied: torch>=1.3.0 in /usr/local/lib/python3.10/dist-packages (from stanza) (2.5.1+cu121)\n",
            "Requirement already satisfied: tqdm in /usr/local/lib/python3.10/dist-packages (from stanza) (4.66.6)\n",
            "Requirement already satisfied: tomli in /usr/local/lib/python3.10/dist-packages (from stanza) (2.1.0)\n",
            "Requirement already satisfied: filelock in /usr/local/lib/python3.10/dist-packages (from torch>=1.3.0->stanza) (3.16.1)\n",
            "Requirement already satisfied: typing-extensions>=4.8.0 in /usr/local/lib/python3.10/dist-packages (from torch>=1.3.0->stanza) (4.12.2)\n",
            "Requirement already satisfied: jinja2 in /usr/local/lib/python3.10/dist-packages (from torch>=1.3.0->stanza) (3.1.4)\n",
            "Requirement already satisfied: fsspec in /usr/local/lib/python3.10/dist-packages (from torch>=1.3.0->stanza) (2024.10.0)\n",
            "Requirement already satisfied: sympy==1.13.1 in /usr/local/lib/python3.10/dist-packages (from torch>=1.3.0->stanza) (1.13.1)\n",
            "Requirement already satisfied: mpmath<1.4,>=1.1.0 in /usr/local/lib/python3.10/dist-packages (from sympy==1.13.1->torch>=1.3.0->stanza) (1.3.0)\n",
            "Requirement already satisfied: charset-normalizer<4,>=2 in /usr/local/lib/python3.10/dist-packages (from requests->stanza) (3.4.0)\n",
            "Requirement already satisfied: idna<4,>=2.5 in /usr/local/lib/python3.10/dist-packages (from requests->stanza) (3.10)\n",
            "Requirement already satisfied: urllib3<3,>=1.21.1 in /usr/local/lib/python3.10/dist-packages (from requests->stanza) (2.2.3)\n",
            "Requirement already satisfied: certifi>=2017.4.17 in /usr/local/lib/python3.10/dist-packages (from requests->stanza) (2024.8.30)\n",
            "Requirement already satisfied: MarkupSafe>=2.0 in /usr/local/lib/python3.10/dist-packages (from jinja2->torch>=1.3.0->stanza) (3.0.2)\n"
          ]
        }
      ]
    },
    {
      "cell_type": "code",
      "source": [
        "import numpy as np\n",
        "import os\n",
        "from sklearn.manifold import TSNE\n",
        "import matplotlib.pyplot as plt\n",
        "import re\n",
        "import pickle\n",
        "import stanza\n",
        "import gensim\n",
        "from sklearn.preprocessing import MinMaxScaler\n",
        "from collections import Counter"
      ],
      "metadata": {
        "id": "KECaNccn_JB3"
      },
      "execution_count": 40,
      "outputs": []
    },
    {
      "cell_type": "code",
      "source": [
        "\"\"\"\n",
        "#Remember to upload the word embeddings txt file and update the path\n",
        "embeddings_path = f'/content/drive/MyDrive/TXA_PROJECT/data/word_embeddings/twitter128.txt'\n",
        "\"\"\""
      ],
      "metadata": {
        "id": "EfzFE5xa_LrO",
        "colab": {
          "base_uri": "https://localhost:8080/",
          "height": 54
        },
        "outputId": "815f445c-df49-4e07-ca73-c5538f4f1511"
      },
      "execution_count": 41,
      "outputs": [
        {
          "output_type": "execute_result",
          "data": {
            "text/plain": [
              "\"\\n#Remember to upload the word embeddings txt file and update the path\\nembeddings_path = f'/content/drive/MyDrive/TXA_PROJECT/data/word_embeddings/twitter128.txt'\\n\""
            ],
            "application/vnd.google.colaboratory.intrinsic+json": {
              "type": "string"
            }
          },
          "metadata": {},
          "execution_count": 41
        }
      ]
    },
    {
      "cell_type": "code",
      "source": [
        "\"\"\"\n",
        "def load_word_embeddings(src_path):\n",
        "  '''\n",
        "  Read the twitter128.txt file and build a dict {word: its embedding representation}\n",
        "  '''\n",
        "  embeddings = dict()\n",
        "  for line in open(src_path, 'r'):\n",
        "      line = line.strip().split('\\t')\n",
        "      word = line[0]\n",
        "      embedding = line[1:]\n",
        "      embedding = [float(comp) for comp in embedding] # convertiamo le componenti dell'embedding in float\n",
        "      embeddings[word] = np.asarray(embedding) # trasformiamo la lista delle componenti in un vettore di numpy\n",
        "  return embeddings\n",
        "\"\"\""
      ],
      "metadata": {
        "id": "HkZnDmq2_-id",
        "colab": {
          "base_uri": "https://localhost:8080/",
          "height": 127
        },
        "outputId": "de766fa4-d966-41fd-b3e3-99e4e0f385a4"
      },
      "execution_count": 42,
      "outputs": [
        {
          "output_type": "execute_result",
          "data": {
            "text/plain": [
              "\"\\ndef load_word_embeddings(src_path):\\n  '''\\n  Read the twitter128.txt file and build a dict {word: its embedding representation}\\n  '''\\n  embeddings = dict()\\n  for line in open(src_path, 'r'):\\n      line = line.strip().split('\\t')\\n      word = line[0]\\n      embedding = line[1:]\\n      embedding = [float(comp) for comp in embedding] # convertiamo le componenti dell'embedding in float\\n      embeddings[word] = np.asarray(embedding) # trasformiamo la lista delle componenti in un vettore di numpy\\n  return embeddings\\n\""
            ],
            "application/vnd.google.colaboratory.intrinsic+json": {
              "type": "string"
            }
          },
          "metadata": {},
          "execution_count": 42
        }
      ]
    },
    {
      "cell_type": "code",
      "source": [
        "\"\"\"\n",
        "embeddings = load_word_embeddings(embeddings_path)\n",
        "\"\"\""
      ],
      "metadata": {
        "id": "DG2HFmh1DFAN",
        "colab": {
          "base_uri": "https://localhost:8080/",
          "height": 36
        },
        "outputId": "78fdad6e-7a66-43bd-b0bd-6eaa27c775a0"
      },
      "execution_count": 43,
      "outputs": [
        {
          "output_type": "execute_result",
          "data": {
            "text/plain": [
              "'\\nembeddings = load_word_embeddings(embeddings_path)\\n'"
            ],
            "application/vnd.google.colaboratory.intrinsic+json": {
              "type": "string"
            }
          },
          "metadata": {},
          "execution_count": 43
        }
      ]
    },
    {
      "cell_type": "code",
      "source": [
        "'''\n",
        "#pickle embeddings\n",
        "outpath = '/content/drive/MyDrive/TXA_PROJECT/data/word_embeddings/embeddings.pkl' #my own Drive folder → can't be distributed\n",
        "with open(outpath, 'wb') as outfile:\n",
        "    pickle.dump(embeddings, outfile)\n",
        "'''"
      ],
      "metadata": {
        "colab": {
          "base_uri": "https://localhost:8080/",
          "height": 72
        },
        "id": "-8TMvLshPc49",
        "outputId": "714f4b60-a7c7-490b-e1a7-1661924404bc"
      },
      "execution_count": 44,
      "outputs": [
        {
          "output_type": "execute_result",
          "data": {
            "text/plain": [
              "\"\\n#pickle embeddings\\noutpath = '/content/drive/MyDrive/TXA_PROJECT/data/word_embeddings/embeddings.pkl' #my own Drive folder → can't be distributed\\nwith open(outpath, 'wb') as outfile:\\n    pickle.dump(embeddings, outfile)\\n\""
            ],
            "application/vnd.google.colaboratory.intrinsic+json": {
              "type": "string"
            }
          },
          "metadata": {},
          "execution_count": 44
        }
      ]
    },
    {
      "cell_type": "code",
      "source": [
        "# Loading from pickle\n",
        "emb_path = '/content/drive/MyDrive/TXA_PROJECT/data/word_embeddings/embeddings.pkl' #UPLOAD embeddings.pkl AND UPDATE PATH\n",
        "with open(emb_path, 'rb') as f:\n",
        "    embeddings = pickle.load(f)"
      ],
      "metadata": {
        "id": "ZvIsTLGtQfs0"
      },
      "execution_count": 45,
      "outputs": []
    },
    {
      "cell_type": "markdown",
      "source": [
        "#Semantic space discovery and understanding\n",
        "\n"
      ],
      "metadata": {
        "id": "iyntE6IMDGDD"
      }
    },
    {
      "cell_type": "code",
      "source": [
        "\"\"\"See the range of variance of the embeddings' components \"\"\"\n",
        "\n",
        "min_value = 99999\n",
        "max_value = -99999\n",
        "for word in embeddings:\n",
        "    for comp in embeddings[word]:\n",
        "        if comp > max_value:\n",
        "            max_value = comp\n",
        "        elif comp < min_value:\n",
        "            min_value = comp\n",
        "\n",
        "print(f'Minimum value = {min_value}')\n",
        "print(f'Maximum value = {max_value}')"
      ],
      "metadata": {
        "colab": {
          "base_uri": "https://localhost:8080/"
        },
        "id": "49bPvbB_FOf1",
        "outputId": "d6d7268f-9b41-4f84-c3d7-da1a1457900e"
      },
      "execution_count": 46,
      "outputs": [
        {
          "output_type": "stream",
          "name": "stdout",
          "text": [
            "Minimum value = -0.47946637868881226\n",
            "Maximum value = 0.4648260474205017\n"
          ]
        }
      ]
    },
    {
      "cell_type": "markdown",
      "source": [
        "##Word representation\n",
        "TSNE: dimensionality reduction algorithm → allows us to map our 128 dimensional vectors in a  bidimensional space"
      ],
      "metadata": {
        "id": "W9ExQacSFs-j"
      }
    },
    {
      "cell_type": "code",
      "source": [
        "top20_clean = ['rom', 'migranti', 'Roma', 'immigrati', 'italia', 'campo', 'nomadi', 'stranieri','italiani','via', 'solo', 'Salvini', 'immigrazione', 'profughi', 'Milano', 'campi', 'terrorismo', 'fare', 'due', 'dopo']\n",
        "embs = [embeddings[word] for word in top20_clean]\n",
        "embs = np.stack(embs, axis=0) # la funzione stack \"attacca\" una lista di vettori, creando una matrice"
      ],
      "metadata": {
        "id": "yc_60awPFsqm"
      },
      "execution_count": 47,
      "outputs": []
    },
    {
      "cell_type": "code",
      "source": [
        "reduced_embs = TSNE(n_components=2, learning_rate='auto', init='random', perplexity=3).fit_transform(embs)\n",
        "#n_components=2 → riduce la dimensionalità a 2; il resto sono parametri di default"
      ],
      "metadata": {
        "id": "dawv-LAeSVIH"
      },
      "execution_count": 48,
      "outputs": []
    },
    {
      "cell_type": "code",
      "source": [
        "embs.shape, reduced_embs.shape #128 vs 2 dimensions"
      ],
      "metadata": {
        "colab": {
          "base_uri": "https://localhost:8080/"
        },
        "id": "7ua0OD7USWDt",
        "outputId": "92a41064-b38b-4a32-b376-5639a2fa1286"
      },
      "execution_count": 49,
      "outputs": [
        {
          "output_type": "execute_result",
          "data": {
            "text/plain": [
              "((20, 128), (20, 2))"
            ]
          },
          "metadata": {},
          "execution_count": 49
        }
      ]
    },
    {
      "cell_type": "code",
      "source": [
        "\n",
        "fig, ax = plt.subplots()\n",
        "ax.scatter(reduced_embs[:,0], reduced_embs[:,1])\n",
        "for i, word in enumerate(top20_clean):\n",
        "    ax.annotate(word, (reduced_embs[i,0]+0.5, reduced_embs[i, 1]+0.5))"
      ],
      "metadata": {
        "colab": {
          "base_uri": "https://localhost:8080/",
          "height": 430
        },
        "id": "nVZRBVwPSgal",
        "outputId": "e62ca67a-5093-4992-d62b-989e3b3ba38f"
      },
      "execution_count": 50,
      "outputs": [
        {
          "output_type": "display_data",
          "data": {
            "text/plain": [
              "<Figure size 640x480 with 1 Axes>"
            ],
            "image/png": "[encoded data removed]"
          },
          "metadata": {}
        }
      ]
    },
    {
      "cell_type": "markdown",
      "source": [
        "#Text normalization\n",
        "[Preprocessing functions by the ItaliaNLP lab](http://www.italianlp.it/we-distributed/norm_script.py)\n"
      ],
      "metadata": {
        "id": "NRh1QN7vHtgz"
      }
    },
    {
      "cell_type": "code",
      "source": [
        "def get_digits(text):\n",
        "    try:\n",
        "      val = int(text)\n",
        "    except:\n",
        "      text = re.sub('\\d', '@Dg', text)\n",
        "      return text\n",
        "    if val >= 0 and val < 2100:\n",
        "      return str(val)\n",
        "    else:\n",
        "      return \"DIGLEN_\" + str(len(str(val)))\n",
        "\n",
        "def normalize_text(word):\n",
        "    if \"http\" in word or (\".\" in word and \"/\" in word):\n",
        "      word = \"___URL___\" #word = unicode(\"___URL___\") → obsolete\n",
        "      return word\n",
        "    if len(word) > 26:\n",
        "      return \"__LONG-LONG__\"\n",
        "    new_word = get_digits(word)\n",
        "    if new_word != word:\n",
        "      word = new_word\n",
        "    if word[0].isupper():\n",
        "      word = word.capitalize()\n",
        "    else:\n",
        "      word = word.lower()\n",
        "    return word"
      ],
      "metadata": {
        "id": "ltoMEN2ZHr4t"
      },
      "execution_count": 51,
      "outputs": []
    },
    {
      "cell_type": "code",
      "source": [
        "#import the docs → pickle file by Giulia\n",
        "'''\n",
        "Dict of dicts → Save each document in a dictionary:\n",
        "id document id: string\n",
        "raw_text document text as is (no processing): string\n",
        "hs: int\n",
        "stereotype: int\n",
        "proc_text document text processed by Stanza Pipeline: stanza Document\n",
        "'''\n",
        "with open('/content/txa_project/results/stanza_proc_train.pkl', 'rb') as infile:\n",
        "    loaded_docs = pickle.load(infile)"
      ],
      "metadata": {
        "id": "fbtf_yqCNw0a"
      },
      "execution_count": 52,
      "outputs": []
    },
    {
      "cell_type": "code",
      "source": [
        "#loaded_docs[0]['proc_text'].to_dict()[0][16]['id']\n",
        "#isinstance(loaded_docs[0]['proc_text'].to_dict()[0][15]['id'], tuple)\n",
        "len(loaded_docs[0]['proc_text'].to_dict()[0][15]['id'])"
      ],
      "metadata": {
        "colab": {
          "base_uri": "https://localhost:8080/"
        },
        "id": "woIwU23RSayv",
        "outputId": "29b00dd7-286e-4a91-dcd5-a9c0d90d26c4"
      },
      "execution_count": 53,
      "outputs": [
        {
          "output_type": "execute_result",
          "data": {
            "text/plain": [
              "2"
            ]
          },
          "metadata": {},
          "execution_count": 53
        }
      ]
    },
    {
      "cell_type": "code",
      "source": [
        "isinstance(loaded_docs[0]['proc_text'].to_dict()[0][19]['id'], int)"
      ],
      "metadata": {
        "colab": {
          "base_uri": "https://localhost:8080/"
        },
        "id": "FE1CL8pKSCtZ",
        "outputId": "8d0c42ec-21a9-480f-b463-52d5c56fd9c9"
      },
      "execution_count": 54,
      "outputs": [
        {
          "output_type": "execute_result",
          "data": {
            "text/plain": [
              "True"
            ]
          },
          "metadata": {},
          "execution_count": 54
        }
      ]
    },
    {
      "cell_type": "code",
      "source": [
        "loaded_docs[0]['proc_text'].sentences[0].tokens[15]"
      ],
      "metadata": {
        "colab": {
          "base_uri": "https://localhost:8080/"
        },
        "id": "EI7ZqMqpTx9H",
        "outputId": "d64a352b-2196-4454-d923-93f3ce28de4b"
      },
      "execution_count": 55,
      "outputs": [
        {
          "output_type": "execute_result",
          "data": {
            "text/plain": [
              "[\n",
              "  {\n",
              "    \"id\": [\n",
              "      16,\n",
              "      17\n",
              "    ],\n",
              "    \"text\": \"renderle\",\n",
              "    \"start_char\": 79,\n",
              "    \"end_char\": 87\n",
              "  },\n",
              "  {\n",
              "    \"id\": 16,\n",
              "    \"text\": \"render\",\n",
              "    \"lemma\": \"rendere\",\n",
              "    \"upos\": \"VERB\",\n",
              "    \"xpos\": \"V\",\n",
              "    \"feats\": \"VerbForm=Inf\",\n",
              "    \"head\": 7,\n",
              "    \"deprel\": \"conj\",\n",
              "    \"start_char\": 79,\n",
              "    \"end_char\": 85\n",
              "  },\n",
              "  {\n",
              "    \"id\": 17,\n",
              "    \"text\": \"le\",\n",
              "    \"lemma\": \"le\",\n",
              "    \"upos\": \"PRON\",\n",
              "    \"xpos\": \"PC\",\n",
              "    \"feats\": \"Clitic=Yes|Gender=Fem|Number=Plur|Person=3|PronType=Prs\",\n",
              "    \"head\": 16,\n",
              "    \"deprel\": \"obj\",\n",
              "    \"start_char\": 85,\n",
              "    \"end_char\": 87\n",
              "  }\n",
              "]"
            ]
          },
          "metadata": {},
          "execution_count": 55
        }
      ]
    },
    {
      "cell_type": "code",
      "source": [
        "loaded_docs[0]['proc_text'].sentences[0].tokens[15].words[1]"
      ],
      "metadata": {
        "colab": {
          "base_uri": "https://localhost:8080/"
        },
        "id": "S4PHS1i2ojK7",
        "outputId": "ac6f9b47-7fd1-4c95-f986-82caf6c2b3a0"
      },
      "execution_count": 56,
      "outputs": [
        {
          "output_type": "execute_result",
          "data": {
            "text/plain": [
              "{\n",
              "  \"id\": 17,\n",
              "  \"text\": \"le\",\n",
              "  \"lemma\": \"le\",\n",
              "  \"upos\": \"PRON\",\n",
              "  \"xpos\": \"PC\",\n",
              "  \"feats\": \"Clitic=Yes|Gender=Fem|Number=Plur|Person=3|PronType=Prs\",\n",
              "  \"head\": 16,\n",
              "  \"deprel\": \"obj\",\n",
              "  \"start_char\": 85,\n",
              "  \"end_char\": 87\n",
              "}"
            ]
          },
          "metadata": {},
          "execution_count": 56
        }
      ]
    },
    {
      "cell_type": "code",
      "source": [
        "#Longer but more readable\n",
        "\n",
        "\"\"\"\n",
        "def get_tokens_from_tweet(doc):\n",
        "    document_tokens = []\n",
        "    for token in doc['proc_text'].iter_tokens():  #Prendi stanza doc dei tweet → tokenizzato, itera sui token\n",
        "        if isinstance(token.id, tuple):  # Se il token ha un ID composto (clitico)\n",
        "            word = normalize_text(token.text)\n",
        "            token_data = {\n",
        "                'word': word,\n",
        "                'pos': token.words[0].upos #pos della parola lessicale principale\n",
        "            }\n",
        "            document_tokens.append(token_data)\n",
        "\n",
        "        else:  # Token normale, l'id è un int\n",
        "            word = normalize_text(token.text)\n",
        "            pos = token.upos\n",
        "            token_data = {\n",
        "                'word': word,\n",
        "                'pos': pos\n",
        "            }\n",
        "            document_tokens.append(token_data)\n",
        "    return document_tokens\n",
        "    \"\"\""
      ],
      "metadata": {
        "id": "PtpgTdTPhyAF",
        "colab": {
          "base_uri": "https://localhost:8080/",
          "height": 182
        },
        "outputId": "f38fce03-2c15-475e-8c93-b6bd83c3551c"
      },
      "execution_count": 57,
      "outputs": [
        {
          "output_type": "execute_result",
          "data": {
            "text/plain": [
              "\"\\ndef get_tokens_from_tweet(doc):\\n    document_tokens = []\\n    for token in doc['proc_text'].iter_tokens():  #Prendi stanza doc dei tweet → tokenizzato, itera sui token\\n        if isinstance(token.id, tuple):  # Se il token ha un ID composto (clitico)\\n            word = normalize_text(token.text)\\n            token_data = {\\n                'word': word,\\n                'pos': token.words[0].upos #pos della parola lessicale principale\\n            }\\n            document_tokens.append(token_data)\\n\\n        else:  # Token normale, l'id è un int\\n            word = normalize_text(token.text)\\n            pos = token.upos\\n            token_data = {\\n                'word': word,\\n                'pos': pos\\n            }\\n            document_tokens.append(token_data)\\n    return document_tokens\\n    \""
            ],
            "application/vnd.google.colaboratory.intrinsic+json": {
              "type": "string"
            }
          },
          "metadata": {},
          "execution_count": 57
        }
      ]
    },
    {
      "cell_type": "code",
      "source": [
        "def create_token_data(word, pos):\n",
        "  \"\"\"\n",
        "  Helper function, builds a dictionary with the token data.\n",
        "  \"\"\"\n",
        "  return {'word': word, 'pos': pos}\n",
        "\n",
        "def get_tokens_from_tweet(doc):\n",
        "  \"\"\"\n",
        "  For a doc (tweet), iterate over its tokens and creates a dict for each token,\n",
        "  containing its normalized form (that matches the embeddings' normalization) and its POS.\n",
        "  If the token has clitics, the POS is taken from the host (in Italian: the first word).\n",
        "  \"\"\"\n",
        "  document_tokens = []\n",
        "  for token in doc['proc_text'].iter_tokens():  #Prendi stanza doc dei tweet → tokenizzato, itera sui token\n",
        "      word = normalize_text(token.text)\n",
        "      token_data = create_token_data(word, token.words[0].upos if isinstance(token.id, tuple) else token.upos) #if isinstance(token.id, tuple), the token has at least a clitic\n",
        "      document_tokens.append(token_data)\n",
        "  return document_tokens"
      ],
      "metadata": {
        "id": "qyKzxzzL6bEn"
      },
      "execution_count": 58,
      "outputs": []
    },
    {
      "cell_type": "code",
      "source": [
        "all_documents = []\n",
        "for doc in loaded_docs: #itera sui tweet\n",
        "  document_tokens = get_tokens_from_tweet(doc)\n",
        "  all_documents.append(document_tokens)"
      ],
      "metadata": {
        "id": "8QBVOQXaNB_j"
      },
      "execution_count": 59,
      "outputs": []
    },
    {
      "cell_type": "code",
      "source": [
        "all_documents[2589]#[1]['word']"
      ],
      "metadata": {
        "colab": {
          "base_uri": "https://localhost:8080/"
        },
        "id": "0WERPaOdQpOt",
        "outputId": "9d0e6d4c-1009-403a-9f6a-0d0d7a502295"
      },
      "execution_count": 77,
      "outputs": [
        {
          "output_type": "execute_result",
          "data": {
            "text/plain": [
              "[{'word': 'Pontina', 'pos': 'PROPN'},\n",
              " {'word': ',', 'pos': 'PUNCT'},\n",
              " {'word': 'ora', 'pos': 'ADV'},\n",
              " {'word': 'i', 'pos': 'DET'},\n",
              " {'word': 'rom', 'pos': 'NOUN'},\n",
              " {'word': 'assaltano', 'pos': 'VERB'},\n",
              " {'word': 'anche', 'pos': 'ADV'},\n",
              " {'word': 'gli', 'pos': 'DET'},\n",
              " {'word': 'automobilisti', 'pos': 'NOUN'}]"
            ]
          },
          "metadata": {},
          "execution_count": 77
        }
      ]
    },
    {
      "cell_type": "markdown",
      "source": [
        "#Exploring the embedding representation of the tweets"
      ],
      "metadata": {
        "id": "D6rE0q1CextF"
      }
    },
    {
      "cell_type": "code",
      "source": [
        "def vocabulary_tweets(all_documents):\n",
        "  vocabulary = set()\n",
        "  for tweet in all_documents:\n",
        "    for token in tweet:\n",
        "      vocabulary.add(token['word'])\n",
        "  return vocabulary"
      ],
      "metadata": {
        "id": "tTXMcYQ1fM7o"
      },
      "execution_count": 61,
      "outputs": []
    },
    {
      "cell_type": "code",
      "source": [
        "tweets_vocab = vocabulary_tweets(all_documents)\n",
        "embs_vocab = set(embeddings.keys())\n",
        "\n",
        "missing_words = tweets_vocab - embs_vocab"
      ],
      "metadata": {
        "id": "ZfU_TJsMgGJ3"
      },
      "execution_count": 62,
      "outputs": []
    },
    {
      "cell_type": "code",
      "source": [
        "coverage = (len(tweets_vocab - missing_words) / len(tweets_vocab)) * 100\n",
        "print(f\"Numero di parole OOV: {len(missing_words)} su {len(tweets_vocab)}.\")\n",
        "print(f\"Copertura embedding: {coverage:.2f}%.\")"
      ],
      "metadata": {
        "colab": {
          "base_uri": "https://localhost:8080/"
        },
        "id": "1uS1DQv3igsL",
        "outputId": "60f2fae3-3ec1-4fba-b7fd-01e8275da4e8"
      },
      "execution_count": 63,
      "outputs": [
        {
          "output_type": "stream",
          "name": "stdout",
          "text": [
            "Numero di parole OOV: 2703 su 22709.\n",
            "Copertura embedding: 88.10%.\n"
          ]
        }
      ]
    },
    {
      "cell_type": "code",
      "source": [
        "missing_words_freq = Counter(missing_words)\n",
        "missing_words_freq"
      ],
      "metadata": {
        "colab": {
          "base_uri": "https://localhost:8080/"
        },
        "id": "xt8UHdRLkT72",
        "outputId": "f0d4c4a2-707a-46d8-d0cf-1c90b44b8c4a"
      },
      "execution_count": 64,
      "outputs": [
        {
          "output_type": "execute_result",
          "data": {
            "text/plain": [
              "Counter({'Amisdenicolas': 1,\n",
              "         '“': 1,\n",
              "         'Vitsas': 1,\n",
              "         \"Fara'\": 1,\n",
              "         'Cervelliinfuga': 1,\n",
              "         'Gr…': 1,\n",
              "         '#€urolandia': 1,\n",
              "         'Votereste': 1,\n",
              "         'Tagadala@dg': 1,\n",
              "         '😂matrix': 1,\n",
              "         'pamelamastropietro': 1,\n",
              "         'Stupro,': 1,\n",
              "         '”zanzara': 1,\n",
              "         'in🇮': 1,\n",
              "         '”matte’': 1,\n",
              "         'Hypobank': 1,\n",
              "         '!@dg': 1,\n",
              "         'ebrei\\\\': 1,\n",
              "         'lurlo': 1,\n",
              "         'sira(': 1,\n",
              "         'Synthe': 1,\n",
              "         'raggiungere🇮🇹': 1,\n",
              "         'attrvità': 1,\n",
              "         'Ridiventano': 1,\n",
              "         'Affaritalian': 1,\n",
              "         'circolasse': 1,\n",
              "         'perdu…': 1,\n",
              "         'Nostraschifosi': 1,\n",
              "         'Andatevenenon': 1,\n",
              "         'infibulano': 1,\n",
              "         'rotturelidl': 1,\n",
              "         '-germania': 1,\n",
              "         '😡😡': 1,\n",
              "         'Svegliamoci!': 1,\n",
              "         'Indagini|': 1,\n",
              "         'benvisti': 1,\n",
              "         '💩💩donne': 1,\n",
              "         'immigrazi…': 1,\n",
              "         'mastropoietro': 1,\n",
              "         'terroristi/buonisti': 1,\n",
              "         '🇮🇪come': 1,\n",
              "         'tagliagolla': 1,\n",
              "         'da…': 1,\n",
              "         'nomadi\\\\': 1,\n",
              "         'Onuente': 1,\n",
              "         '!|!!': 1,\n",
              "         'fanagni': 1,\n",
              "         'Amici@dg@dgok': 1,\n",
              "         'Discriminati!!pezzi': 1,\n",
              "         'lottomarzo': 1,\n",
              "         'Democraziaè': 1,\n",
              "         'ragazzi�': 1,\n",
              "         'imprendiotri': 1,\n",
              "         'Roma!': 1,\n",
              "         'Bremme': 1,\n",
              "         'Arrestare.per': 1,\n",
              "         '❗️sveglia': 1,\n",
              "         'news-': 1,\n",
              "         'msna': 1,\n",
              "         'apiede': 1,\n",
              "         'Paneuropeo': 1,\n",
              "         ':mandiamo': 1,\n",
              "         'Pa…': 1,\n",
              "         '•centri': 1,\n",
              "         'Stavavo': 1,\n",
              "         'Costruzionie': 1,\n",
              "         'resi…': 1,\n",
              "         '!no': 1,\n",
              "         'soluzionefinale': 1,\n",
              "         'parlatrump': 1,\n",
              "         'Cambianiente': 1,\n",
              "         'Inal': 1,\n",
              "         's…': 1,\n",
              "         'Grandenon': 1,\n",
              "         'Imaam': 1,\n",
              "         'extralegali': 1,\n",
              "         'tes…': 1,\n",
              "         '-fini': 1,\n",
              "         'Arciuolo': 1,\n",
              "         'glimmigrati': 1,\n",
              "         'mangiacotti': 1,\n",
              "         'somaliland': 1,\n",
              "         'Plinforma': 1,\n",
              "         'riacesi': 1,\n",
              "         'rispediscano': 1,\n",
              "         'st…': 1,\n",
              "         'Bizanzio': 1,\n",
              "         'africani/musulmani': 1,\n",
              "         '💩😐': 1,\n",
              "         '!!ma': 1,\n",
              "         'Nabellezza': 1,\n",
              "         'tasca\\\\': 1,\n",
              "         'pavlovich': 1,\n",
              "         '🧐': 1,\n",
              "         'Igles…': 1,\n",
              "         'Vushaj': 1,\n",
              "         '-immigrati': 1,\n",
              "         'Finti-': 1,\n",
              "         \"vo'\": 1,\n",
              "         'evangelizzati': 1,\n",
              "         'Sfrontatazza': 1,\n",
              "         'filassero': 1,\n",
              "         'Difenderle': 1,\n",
              "         '&lt;': 1,\n",
              "         'culturasuperiore': 1,\n",
              "         'farefronte': 1,\n",
              "         'sociali/pensionistici': 1,\n",
              "         'defendeurope': 1,\n",
              "         'Primagli': 1,\n",
              "         'paro…': 1,\n",
              "         'nomadi…': 1,\n",
              "         'agorai': 1,\n",
              "         'scafist': 1,\n",
              "         'Ahvaz': 1,\n",
              "         \"ricevera'\": 1,\n",
              "         \"Identita'\": 1,\n",
              "         'po’': 1,\n",
              "         'Ckan': 1,\n",
              "         '🔴aggiornamentocome': 1,\n",
              "         'Libia!': 1,\n",
              "         'distruggendoli': 1,\n",
              "         'esmaredzepova': 1,\n",
              "         'Pd!movimentonesti': 1,\n",
              "         'munnezzzzzzz': 1,\n",
              "         '@dg,@dgmld': 1,\n",
              "         'Figaccia': 1,\n",
              "         'opicina': 1,\n",
              "         'Coglionamente': 1,\n",
              "         'veri…': 1,\n",
              "         'Rimpatriamoli': 1,\n",
              "         'salva…': 1,\n",
              "         'Fedelia': 1,\n",
              "         'zongari': 1,\n",
              "         '😳😳': 1,\n",
              "         'branco/': 1,\n",
              "         'Erostraniero': 1,\n",
              "         \"Legalita'\": 1,\n",
              "         'noi…': 1,\n",
              "         'Fiorere': 1,\n",
              "         'Luchena': 1,\n",
              "         'domiciari': 1,\n",
              "         'de’': 1,\n",
              "         'monologale': 1,\n",
              "         '”parte': 1,\n",
              "         'nudo(': 1,\n",
              "         '!siamo': 1,\n",
              "         'Notorio': 1,\n",
              "         'cyberthreats': 1,\n",
              "         'redditocittadinanza': 1,\n",
              "         'Vialeone': 1,\n",
              "         'Cronaca…': 1,\n",
              "         'rimpatrierebbero': 1,\n",
              "         'soggiornoper': 1,\n",
              "         'chiccosì': 1,\n",
              "         'Іl': 1,\n",
              "         'Tesfahun': 1,\n",
              "         'Subito!': 1,\n",
              "         'smerciate': 1,\n",
              "         '.vachiria': 1,\n",
              "         'afroislamiche': 1,\n",
              "         'altruista😡😡': 1,\n",
              "         'Asa.': 1,\n",
              "         'Maisicurezza': 1,\n",
              "         'canavesenews': 1,\n",
              "         'Openarms': 1,\n",
              "         'anch’': 1,\n",
              "         'Leggirazziali': 1,\n",
              "         'Cercatel': 1,\n",
              "         '“missione': 1,\n",
              "         'Svuotacantine': 1,\n",
              "         '&amp;@dg@dg@dg@dg': 1,\n",
              "         'giudce': 1,\n",
              "         'Lolassessore': 1,\n",
              "         \"Pero'\": 1,\n",
              "         'Boldriniricoverati': 1,\n",
              "         'itafrica': 1,\n",
              "         'animalifanatici': 1,\n",
              "         ':caro': 1,\n",
              "         'leader-rom': 1,\n",
              "         'Torinonapoli': 1,\n",
              "         'Consiglioregionale': 1,\n",
              "         'Torinobad': 1,\n",
              "         'Orecchio!': 1,\n",
              "         'confiscarla': 1,\n",
              "         'cimbro': 1,\n",
              "         'empieta': 1,\n",
              "         'Ribellimoderati': 1,\n",
              "         'Bel/': 1,\n",
              "         'Giletsjaunes': 1,\n",
              "         '✌️': 1,\n",
              "         'cartabianca': 1,\n",
              "         '!gli': 1,\n",
              "         'stranieri@dg@dg': 1,\n",
              "         'Itali…': 1,\n",
              "         'Nonlasciamoli': 1,\n",
              "         'sull’': 1,\n",
              "         'Migranti.avete': 1,\n",
              "         'ottenebramento': 1,\n",
              "         'amici/': 1,\n",
              "         'Orent-': 1,\n",
              "         'figlisicuri': 1,\n",
              "         'ròm–nome': 1,\n",
              "         'Senadid': 1,\n",
              "         '^civiltà': 1,\n",
              "         'continu…': 1,\n",
              "         'Internapoli': 1,\n",
              "         'ed…': 1,\n",
              "         'eritreademocratica': 1,\n",
              "         'Jeanasselborn': 1,\n",
              "         'vuala': 1,\n",
              "         '—': 1,\n",
              "         'Velvetmag': 1,\n",
              "         \"chiusi'\": 1,\n",
              "         'Andreariccardi': 1,\n",
              "         'compact.': 1,\n",
              "         'Gov.pd': 1,\n",
              "         '@dg°stazione': 1,\n",
              "         '!!!\\\\': 1,\n",
              "         'imbecillissima': 1,\n",
              "         'Ilcaos': 1,\n",
              "         'Bddocumenta': 1,\n",
              "         'Khalidmasood': 1,\n",
              "         'Fermare‼': 1,\n",
              "         'indifendibi…': 1,\n",
              "         'idolata': 1,\n",
              "         'spregiano': 1,\n",
              "         'aclandestino': 1,\n",
              "         '😄😄😄': 1,\n",
              "         'indorano': 1,\n",
              "         'Filcamscollettiva': 1,\n",
              "         'Adelinquere': 1,\n",
              "         'Ordinecontro': 1,\n",
              "         'e`mai': 1,\n",
              "         '!perchè': 1,\n",
              "         'violebrando': 1,\n",
              "         'Immigrati?pagarli': 1,\n",
              "         'orgaglioso': 1,\n",
              "         'Promo_': 1,\n",
              "         'Lagabbiaopen': 1,\n",
              "         'brutalita': 1,\n",
              "         'Torturatore': 1,\n",
              "         'accusadi': 1,\n",
              "         'sgomberarlo': 1,\n",
              "         'pwrcentuali': 1,\n",
              "         'quaranetenni': 1,\n",
              "         'tuquanta': 1,\n",
              "         '+orlandik': 1,\n",
              "         'ilegali': 1,\n",
              "         'twt]': 1,\n",
              "         'lapidavano': 1,\n",
              "         'Norrebro': 1,\n",
              "         'rivoluzionenazionale': 1,\n",
              "         'mazzularli': 1,\n",
              "         'Napoli…': 1,\n",
              "         'costuzionale': 1,\n",
              "         '☹️': 1,\n",
              "         '🤮🤮🤮🤮🤮': 1,\n",
              "         \"Arrivera'\": 1,\n",
              "         'p)': 1,\n",
              "         'Clandestino.': 1,\n",
              "         'noterrorismo': 1,\n",
              "         'migrante/e': 1,\n",
              "         'Amerikane': 1,\n",
              "         'Isis😢': 1,\n",
              "         'Hawala': 1,\n",
              "         '-soggiornanti': 1,\n",
              "         '@dgattualita': 1,\n",
              "         'Flaminio/': 1,\n",
              "         '����peccato': 1,\n",
              "         'rapinata+uccisa': 1,\n",
              "         'Slarp': 1,\n",
              "         'Labàs': 1,\n",
              "         'patronaggio': 1,\n",
              "         'quartarepubblicamigrante': 1,\n",
              "         '🤣🤣🤣😂😂😂😁😁😁': 1,\n",
              "         'Aasiabibi': 1,\n",
              "         '-musulmani': 1,\n",
              "         'Paese!': 1,\n",
              "         'No!!!': 1,\n",
              "         'si�����': 1,\n",
              "         \"Santita'\": 1,\n",
              "         'magnapolenta': 1,\n",
              "         'tagadala@dg': 1,\n",
              "         'Pd:': 1,\n",
              "         'nazislamisti': 1,\n",
              "         \"anni'@dg@dg\": 1,\n",
              "         'meg…': 1,\n",
              "         'gabibbi': 1,\n",
              "         'loro…': 1,\n",
              "         'Bastaconquestagentaglia': 1,\n",
              "         '!così': 1,\n",
              "         'violenzasulledonne': 1,\n",
              "         'Bangladesi': 1,\n",
              "         '?te': 1,\n",
              "         'khmer-': 1,\n",
              "         'Nulla.__coglioni': 1,\n",
              "         'unodiporticichetifajuve': 1,\n",
              "         '!!👍👍👏👏': 1,\n",
              "         'gestirseli': 1,\n",
              "         'sparareavista': 1,\n",
              "         'Iuventa': 1,\n",
              "         'inpericolo': 1,\n",
              "         'Pre…': 1,\n",
              "         ':berlusca': 1,\n",
              "         'Siria🇸': 1,\n",
              "         'Dialoga(': 1,\n",
              "         'Polettidimettiti': 1,\n",
              "         'Ciondolano': 1,\n",
              "         '😳🙄🤔🤓😂😂😂😂': 1,\n",
              "         'Fiasché': 1,\n",
              "         'terrotisti': 1,\n",
              "         'nocaseairom': 1,\n",
              "         'Zhangyao': 1,\n",
              "         'massacrabili': 1,\n",
              "         'Coranonon': 1,\n",
              "         'permessirimpatri': 1,\n",
              "         'Etc.etc': 1,\n",
              "         'exstacomunitari': 1,\n",
              "         'digeri': 1,\n",
              "         '+roma': 1,\n",
              "         'all…': 1,\n",
              "         'Afro-musulmane': 1,\n",
              "         'Baobab,': 1,\n",
              "         'piazzaiola': 1,\n",
              "         'Disardegna': 1,\n",
              "         '-poverini': 1,\n",
              "         'Ssgiovanni': 1,\n",
              "         'Venticique': 1,\n",
              "         'e`con': 1,\n",
              "         'Sa…': 1,\n",
              "         'calcioinculo': 1,\n",
              "         'Qaresima': 1,\n",
              "         'ro…': 1,\n",
              "         'vero…': 1,\n",
              "         'Stazionetiburtina': 1,\n",
              "         'malvedenti': 1,\n",
              "         'sslvini': 1,\n",
              "         'de\"': 1,\n",
              "         'infolibera': 1,\n",
              "         'Dnadei': 1,\n",
              "         'staseraitalia': 1,\n",
              "         'pierremoscovici': 1,\n",
              "         'delll’': 1,\n",
              "         'A…': 1,\n",
              "         '!loro': 1,\n",
              "         'liportasse': 1,\n",
              "         'doc!': 1,\n",
              "         'sessodebole': 1,\n",
              "         'sharja': 1,\n",
              "         '😂ma': 1,\n",
              "         'm*': 1,\n",
              "         'Boumédiène': 1,\n",
              "         'astazione': 1,\n",
              "         'decretosalvini': 1,\n",
              "         'Islamèdiseducazione': 1,\n",
              "         'mult…': 1,\n",
              "         '-sostenibile': 1,\n",
              "         '/romni': 1,\n",
              "         'Cessava': 1,\n",
              "         'd`origine': 1,\n",
              "         'inmezzora': 1,\n",
              "         'Gujana': 1,\n",
              "         'rip!': 1,\n",
              "         'Lenostrepensioni': 1,\n",
              "         'spalmandola': 1,\n",
              "         '!pedofilia': 1,\n",
              "         'gl`immigrati': 1,\n",
              "         'contrattodigoverno': 1,\n",
              "         'guerra\\\\': 1,\n",
              "         'ecc.etc': 1,\n",
              "         'mesciato😳😅😂': 1,\n",
              "         'rinfoltendo': 1,\n",
              "         'dovreste@dg': 1,\n",
              "         '-turco': 1,\n",
              "         'Manifestazionii': 1,\n",
              "         '!natalesiriano': 1,\n",
              "         'Sx!': 1,\n",
              "         'specialnente': 1,\n",
              "         'attendere…': 1,\n",
              "         'Usa-corea': 1,\n",
              "         '!poveri': 1,\n",
              "         'Bokwango': 1,\n",
              "         '🇹🇷': 1,\n",
              "         'saperva': 1,\n",
              "         'Pilum': 1,\n",
              "         'nessunotocchitoninelli': 1,\n",
              "         ':cdm': 1,\n",
              "         'Bureij': 1,\n",
              "         'Fuoridalcoro': 1,\n",
              "         'Nonostate': 1,\n",
              "         ':vai': 1,\n",
              "         'scarichiamoli': 1,\n",
              "         '💩🤢': 1,\n",
              "         'Siria(': 1,\n",
              "         '‘osservano': 1,\n",
              "         'All’': 1,\n",
              "         '!vedrai': 1,\n",
              "         'stopfintiprofughi': 1,\n",
              "         'rateizziamo': 1,\n",
              "         'nomadeinfiat': 1,\n",
              "         'appiccò': 1,\n",
              "         'Selfini': 1,\n",
              "         'raccoltadifferenziata': 1,\n",
              "         'Anciliguria': 1,\n",
              "         'behqti': 1,\n",
              "         'Schifoso/a': 1,\n",
              "         'Pietà!': 1,\n",
              "         'br/&gt': 1,\n",
              "         'mauela': 1,\n",
              "         'pseudoreligione': 1,\n",
              "         'vantandomene': 1,\n",
              "         'immgrazionenordafricani': 1,\n",
              "         'Islamicstate': 1,\n",
              "         'dell!': 1,\n",
              "         'Tbc.': 1,\n",
              "         'Lobbydeicamper': 1,\n",
              "         'Lauraboldrini': 1,\n",
              "         'guerrasanta\\\\': 1,\n",
              "         '•camera': 1,\n",
              "         'primaglitaliani': 1,\n",
              "         'nuoverosorse': 1,\n",
              "         'Bivaccare': 1,\n",
              "         'Wekab': 1,\n",
              "         'organizzandoli': 1,\n",
              "         '!!svegliaaaa': 1,\n",
              "         'Iphone.': 1,\n",
              "         '…….': 1,\n",
              "         'providenziali=': 1,\n",
              "         'puppino': 1,\n",
              "         'Tgpuglia': 1,\n",
              "         'Desiréemariottini': 1,\n",
              "         'Romeni!': 1,\n",
              "         'Beni\"': 1,\n",
              "         'afferrali': 1,\n",
              "         'ilbellodelledonne': 1,\n",
              "         'bastaislam': 1,\n",
              "         '•rifondazione': 1,\n",
              "         '@dg@dg.@dg@dg@dg.@dg@dg@dg:@dg=@dg': 1,\n",
              "         'Negroidi': 1,\n",
              "         'lardellata': 1,\n",
              "         '-&gt': 1,\n",
              "         'malattie&gt': 1,\n",
              "         'camparomclandestinislami': 1,\n",
              "         'emariottini': 1,\n",
              "         'Starsburgo': 1,\n",
              "         'europeizzata': 1,\n",
              "         '🐒🐒🐒': 1,\n",
              "         '///dacci': 1,\n",
              "         'boicottala@dg': 1,\n",
              "         'Fourquet': 1,\n",
              "         'ht…': 1,\n",
              "         'primagliitaliani': 1,\n",
              "         'nome…': 1,\n",
              "         'profughi\\\\': 1,\n",
              "         'murtids': 1,\n",
              "         'Romanon': 1,\n",
              "         'emergenzalupi': 1,\n",
              "         'Anni…': 1,\n",
              "         ':ma': 1,\n",
              "         'Piddidiota': 1,\n",
              "         '!ringraziamo': 1,\n",
              "         'immigrazionista…': 1,\n",
              "         'Invasione.': 1,\n",
              "         'attaule': 1,\n",
              "         'M…': 1,\n",
              "         'Prestabilite': 1,\n",
              "         '+++siria🇸🇾': 1,\n",
              "         'Infibulazioni': 1,\n",
              "         'italiani!': 1,\n",
              "         'pretedono': 1,\n",
              "         'diciotti': 1,\n",
              "         'stranierisiete': 1,\n",
              "         'Radiorpl': 1,\n",
              "         'Buonnatale@dg@dg@dg@dg': 1,\n",
              "         'culallahria': 1,\n",
              "         'sbanchino': 1,\n",
              "         'M@dgs!': 1,\n",
              "         'e´una': 1,\n",
              "         '@dg@dg@dg@dg€/mese': 1,\n",
              "         'kedifendon': 1,\n",
              "         'accollarseli': 1,\n",
              "         ':danno': 1,\n",
              "         'castrarci': 1,\n",
              "         'primamarcello': 1,\n",
              "         'oessh': 1,\n",
              "         'giornatadellamemoria': 1,\n",
              "         'Bogaboxi': 1,\n",
              "         'Info:dott.': 1,\n",
              "         '-campo': 1,\n",
              "         'berlinoattack': 1,\n",
              "         'Cladestini.e': 1,\n",
              "         'Amosoz': 1,\n",
              "         'cittadini🇮🇹poveri': 1,\n",
              "         'assegnamento': 1,\n",
              "         '🔴roma,@dgesercito': 1,\n",
              "         'salvininapoli': 1,\n",
              "         '-milano': 1,\n",
              "         '↪mattielli': 1,\n",
              "         'Merda.portali': 1,\n",
              "         '!brava': 1,\n",
              "         \"Verita'\": 1,\n",
              "         'Faranno.': 1,\n",
              "         'Mohomed': 1,\n",
              "         'Ruspetta': 1,\n",
              "         'Ma-': 1,\n",
              "         'Stresagià': 1,\n",
              "         ':dopo': 1,\n",
              "         'overqualification': 1,\n",
              "         ':\"': 1,\n",
              "         '🤢🤢': 1,\n",
              "         'dimenticatamazzette': 1,\n",
              "         'Umani!': 1,\n",
              "         'Umanrightday': 1,\n",
              "         'Zingariii': 1,\n",
              "         'Salvinichipuò': 1,\n",
              "         'Romaè': 1,\n",
              "         'cos’': 1,\n",
              "         'Inbarcarsi': 1,\n",
              "         '🌏📖': 1,\n",
              "         'Indignarviper': 1,\n",
              "         '-clandestini': 1,\n",
              "         'esultera': 1,\n",
              "         'Quartarepubblica': 1,\n",
              "         \"immigratixl'\": 1,\n",
              "         '-tunisia': 1,\n",
              "         'espusione': 1,\n",
              "         'Sara’': 1,\n",
              "         'aggiornarci!👍🏼': 1,\n",
              "         ':necessario': 1,\n",
              "         '•malversazione•fav': 1,\n",
              "         'Sicurezzamigranti': 1,\n",
              "         'c***': 1,\n",
              "         't…': 1,\n",
              "         'benemerit': 1,\n",
              "         'lavastrade': 1,\n",
              "         'di@dg@dg@dg@dganni': 1,\n",
              "         '!porci': 1,\n",
              "         '”sequestro': 1,\n",
              "         'allosbando': 1,\n",
              "         'Abruz…': 1,\n",
              "         'سلام': 1,\n",
              "         'Ue.invece': 1,\n",
              "         'Pd!': 1,\n",
              "         'irrealta': 1,\n",
              "         'Leggittimato': 1,\n",
              "         'dall’': 1,\n",
              "         'Ottemperavano': 1,\n",
              "         'folliaitaliana': 1,\n",
              "         '😂😂😂😂': 1,\n",
              "         'coranisti': 1,\n",
              "         'Relegheremo': 1,\n",
              "         'utilidioti': 1,\n",
              "         'Scandalosanoi': 1,\n",
              "         'Italiano.torna': 1,\n",
              "         'ridistrubuzione': 1,\n",
              "         'Mortificando': 1,\n",
              "         '.prima': 1,\n",
              "         'sottoogniforma': 1,\n",
              "         'Laltrafaenza': 1,\n",
              "         '++': 1,\n",
              "         'profughisiria': 1,\n",
              "         'Daisyosakue': 1,\n",
              "         'Hastato': 1,\n",
              "         'bananalandia': 1,\n",
              "         'ahhhahhaahahhahaaahahahah': 1,\n",
              "         'Cjondolanti.i': 1,\n",
              "         'djffondetelo': 1,\n",
              "         'Migratis': 1,\n",
              "         'road@dgsportnews': 1,\n",
              "         'Siria🇸🇾': 1,\n",
              "         'Occidente!': 1,\n",
              "         'italia…': 1,\n",
              "         'parte…': 1,\n",
              "         'avrendere': 1,\n",
              "         'degrante': 1,\n",
              "         'Anno.per': 1,\n",
              "         'Vaiafareinculo': 1,\n",
              "         'Culo😡😡😡': 1,\n",
              "         'movimentonesti': 1,\n",
              "         'Kondividi': 1,\n",
              "         'zdi…': 1,\n",
              "         'Isis\"': 1,\n",
              "         'popolobue': 1,\n",
              "         'cambiateidea': 1,\n",
              "         'termovalorizzari': 1,\n",
              "         '-dice': 1,\n",
              "         'Wlitalia': 1,\n",
              "         'Mabota': 1,\n",
              "         '🤮🇫': 1,\n",
              "         'esiste!': 1,\n",
              "         'Darat': 1,\n",
              "         'so…': 1,\n",
              "         '▶✳️lmmcompanyfull': 1,\n",
              "         'gestendoli': 1,\n",
              "         'facc…': 1,\n",
              "         'Playhitmusic': 1,\n",
              "         'Anpi.': 1,\n",
              "         '!nonsonorazzista': 1,\n",
              "         'Midterms@dg@dg@dg@dg': 1,\n",
              "         'inmersa': 1,\n",
              "         \"x'\": 1,\n",
              "         'con…': 1,\n",
              "         'gdsinedicola': 1,\n",
              "         'Mores:per': 1,\n",
              "         'neri!': 1,\n",
              "         'Impugniamo': 1,\n",
              "         'Rispediró': 1,\n",
              "         'Stufi!': 1,\n",
              "         'Anisamri': 1,\n",
              "         'Sezionatori': 1,\n",
              "         'deiclandestini': 1,\n",
              "         'costitisce': 1,\n",
              "         'Latina@dg@dgore': 1,\n",
              "         'skyfopd@dg@dg': 1,\n",
              "         'marcocf@dg@dg': 1,\n",
              "         'Dovunquee': 1,\n",
              "         'restiamoumani': 1,\n",
              "         'burocraci': 1,\n",
              "         '@dg@dg/@dg@dg@dgdei': 1,\n",
              "         \"pe'\": 1,\n",
              "         'africo': 1,\n",
              "         '🤬🤦\\u200d♀️': 1,\n",
              "         'pisapiade': 1,\n",
              "         'xpregare': 1,\n",
              "         \"Rassegnatevi.all'\": 1,\n",
              "         'ingenuo😀🤣': 1,\n",
              "         \"noi'\": 1,\n",
              "         \"se'\": 1,\n",
              "         'Occupanti,': 1,\n",
              "         'Italia!a': 1,\n",
              "         'Anticostituzionaleè': 1,\n",
              "         '🤐🤬': 1,\n",
              "         'schederei': 1,\n",
              "         '️hanno': 1,\n",
              "         '-pro': 1,\n",
              "         '@dg@dgm…': 1,\n",
              "         '-salvini': 1,\n",
              "         'iostoconmimmo': 1,\n",
              "         '?(': 1,\n",
              "         'musulmani\\\\': 1,\n",
              "         'Caproneeeeeeee': 1,\n",
              "         '-centri': 1,\n",
              "         'reatodiumanità': 1,\n",
              "         'yacme': 1,\n",
              "         'Bookpride@dg@dg': 1,\n",
              "         'Cazzo!': 1,\n",
              "         'misu…': 1,\n",
              "         'Galmozzi': 1,\n",
              "         'rom…': 1,\n",
              "         ':perk': 1,\n",
              "         '///sei': 1,\n",
              "         'invasoone': 1,\n",
              "         'dell:': 1,\n",
              "         'Cesedi': 1,\n",
              "         'Pdjoti': 1,\n",
              "         'inimicizza': 1,\n",
              "         'dissidiosociale': 1,\n",
              "         'nell’': 1,\n",
              "         'ammantava': 1,\n",
              "         'X:@dg@dg': 1,\n",
              "         'Panciuti': 1,\n",
              "         'legalizzava': 1,\n",
              "         'val@dg@dg@dg@dg': 1,\n",
              "         '-islamici': 1,\n",
              "         '•associazione': 1,\n",
              "         'fucileremo': 1,\n",
              "         'lelupe': 1,\n",
              "         'fragilizzare': 1,\n",
              "         'campoprofughi': 1,\n",
              "         'campi”…': 1,\n",
              "         'azizi': 1,\n",
              "         'Pericolosi!ormai': 1,\n",
              "         'risorse!': 1,\n",
              "         'Spedirli': 1,\n",
              "         ':il': 1,\n",
              "         '��������������magna': 1,\n",
              "         'confondiamoli': 1,\n",
              "         'eliminandole😂😂😂🖕🖕': 1,\n",
              "         'pdfogna': 1,\n",
              "         'Integrati-': 1,\n",
              "         'Financialtimes': 1,\n",
              "         'studio…': 1,\n",
              "         'salvinimmerda': 1,\n",
              "         'manteret': 1,\n",
              "         'piazzadispagna': 1,\n",
              "         '😳poi': 1,\n",
              "         'Moscheee': 1,\n",
              "         'Salvinipesceabrodo': 1,\n",
              "         'notizie_roma': 1,\n",
              "         'profughisiriani': 1,\n",
              "         '•studenti•rete': 1,\n",
              "         'Eu…': 1,\n",
              "         '•abuso': 1,\n",
              "         'lsciati': 1,\n",
              "         'rieducano': 1,\n",
              "         'Rottto': 1,\n",
              "         'Merde!': 1,\n",
              "         'Villaada': 1,\n",
              "         'reggiosera': 1,\n",
              "         'Dissacrando': 1,\n",
              "         '´': 1,\n",
              "         '���������': 1,\n",
              "         'lapacchiaèfinita': 1,\n",
              "         'tutt…': 1,\n",
              "         'mezzorainpiu': 1,\n",
              "         'Pamelamastropietro': 1,\n",
              "         '!certo': 1,\n",
              "         '🇮🇹🇮🇹🇮': 1,\n",
              "         'Dropmire': 1,\n",
              "         'Continuatw': 1,\n",
              "         '😁😁': 1,\n",
              "         'pdnework': 1,\n",
              "         'piccolasiamo': 1,\n",
              "         'passsano': 1,\n",
              "         'instabul': 1,\n",
              "         '🔴netanyahu': 1,\n",
              "         'Dirittile': 1,\n",
              "         'sgabia': 1,\n",
              "         'boldrinotta': 1,\n",
              "         'quest’': 1,\n",
              "         'prwticanti': 1,\n",
              "         'Dirittiumani': 1,\n",
              "         '👀ma': 1,\n",
              "         'Sestosangiovanni': 1,\n",
              "         'conbatto': 1,\n",
              "         'M@dgs=': 1,\n",
              "         '🖊⬇': 1,\n",
              "         'Convertirgli': 1,\n",
              "         '-morte': 1,\n",
              "         'Ong=': 1,\n",
              "         'Noglobalcompact': 1,\n",
              "         'Perathoner': 1,\n",
              "         'f…': 1,\n",
              "         'dominare!ma': 1,\n",
              "         'Sardone.': 1,\n",
              "         'Globalcompactformigration': 1,\n",
              "         'Acsim': 1,\n",
              "         'dotandoli': 1,\n",
              "         'Tonti⁉': 1,\n",
              "         'Campo/campo': 1,\n",
              "         'Dicittadinanza': 1,\n",
              "         '@dg@dg@dgebrei': 1,\n",
              "         'Pc,sinistra': 1,\n",
              "         '😱mi': 1,\n",
              "         'viae': 1,\n",
              "         'Basma': 1,\n",
              "         'terroristiradicalizzati': 1,\n",
              "         'iostoconriace': 1,\n",
              "         'leiene': 1,\n",
              "         'Greencard': 1,\n",
              "         'Foto+': 1,\n",
              "         'sull?': 1,\n",
              "         'romladri': 1,\n",
              "         'Un_': 1,\n",
              "         '-demente': 1,\n",
              "         'Fakemedia': 1,\n",
              "         'Mediocampidan…': 1,\n",
              "         \"Liberta'\": 1,\n",
              "         'Coglione,': 1,\n",
              "         'indistrubati': 1,\n",
              "         'ignorantismo': 1,\n",
              "         'Espressio': 1,\n",
              "         'legittimadifesa': 1,\n",
              "         'fugito': 1,\n",
              "         'Herrou': 1,\n",
              "         '-qaradawi': 1,\n",
              "         'Sant’': 1,\n",
              "         'Immigrazione.': 1,\n",
              "         'coffeebreakla@dg': 1,\n",
              "         'padovaoggi…': 1,\n",
              "         \"Severita'\": 1,\n",
              "         'Lavoro,': 1,\n",
              "         'Importanteperò': 1,\n",
              "         'Girailmondo': 1,\n",
              "         'guadagna…': 1,\n",
              "         'Nnatevene': 1,\n",
              "         'abbassero': 1,\n",
              "         'Lasantanche': 1,\n",
              "         'per…': 1,\n",
              "         'fratelliditalia': 1,\n",
              "         'poveri\"': 1,\n",
              "         'Ass@dg@dg': 1,\n",
              "         'Piazzapagliacci': 1,\n",
              "         'Corvacci': 1,\n",
              "         '”arriviamo': 1,\n",
              "         'vergogna👎👎👎👎👎👎': 1,\n",
              "         '-narrazione': 1,\n",
              "         'Bestat': 1,\n",
              "         '😔non': 1,\n",
              "         'assolvera': 1,\n",
              "         'Musulmanivogliono': 1,\n",
              "         'Megalizzi': 1,\n",
              "         '-gay': 1,\n",
              "         'volonterosa': 1,\n",
              "         'bestsongofmovie': 1,\n",
              "         ':cittadini': 1,\n",
              "         '-portati': 1,\n",
              "         'nonpagoaffitto': 1,\n",
              "         'lavitapromessa': 1,\n",
              "         'Europa-': 1,\n",
              "         'Suoi!': 1,\n",
              "         'Popefrancis': 1,\n",
              "         'sorosiane': 1,\n",
              "         \"po'\": 1,\n",
              "         '!il': 1,\n",
              "         'iostocondavideraggi': 1,\n",
              "         '⌨': 1,\n",
              "         'Xsmax': 1,\n",
              "         'sull‘': 1,\n",
              "         'siarrangino': 1,\n",
              "         'asilo⛔️': 1,\n",
              "         'Mapezzi': 1,\n",
              "         '-al': 1,\n",
              "         'c@xxo': 1,\n",
              "         'etc.o': 1,\n",
              "         '😭😭😭': 1,\n",
              "         'M_decimomeridio': 1,\n",
              "         \".l'\": 1,\n",
              "         'Cos’': 1,\n",
              "         'spettacolume': 1,\n",
              "         '🇹in': 1,\n",
              "         \"campionedell'\": 1,\n",
              "         '!😡😡': 1,\n",
              "         'iovoto': 1,\n",
              "         'incintà': 1,\n",
              "         'Imputazioni': 1,\n",
              "         'Ripijam': 1,\n",
              "         'crescereper': 1,\n",
              "         'Movimentonesti': 1,\n",
              "         'Taglieggiavano': 1,\n",
              "         'Islamèviolenza': 1,\n",
              "         'welcomerefugees': 1,\n",
              "         'islamstop': 1,\n",
              "         'nascosti…': 1,\n",
              "         'Europa…': 1,\n",
              "         'Anale:se': 1,\n",
              "         'attentiallislam…': 1,\n",
              "         'smaltiva': 1,\n",
              "         '-magna': 1,\n",
              "         'Riepire': 1,\n",
              "         'doveri!': 1,\n",
              "         'Migranti.andatevene': 1,\n",
              "         'case\\\\': 1,\n",
              "         'ma…': 1,\n",
              "         'anticoleriche': 1,\n",
              "         'Strenuamente': 1,\n",
              "         'Eu!': 1,\n",
              "         'semprepiuconsalvini': 1,\n",
              "         'Degliitaliani': 1,\n",
              "         'paladinba': 1,\n",
              "         'immigratti': 1,\n",
              "         'ricordasero': 1,\n",
              "         'Emilia…': 1,\n",
              "         'Chibunna': 1,\n",
              "         'ultraricchi': 1,\n",
              "         'ore…': 1,\n",
              "         'Dall’': 1,\n",
              "         'bastardislamici': 1,\n",
              "         'Ervino': 1,\n",
              "         '/aumentare': 1,\n",
              "         'Antidemocraticocalpesta': 1,\n",
              "         'Pochiiiii': 1,\n",
              "         'Italianibravagente': 1,\n",
              "         'tua!': 1,\n",
              "         'Zimbella': 1,\n",
              "         'Semianalfabeti': 1,\n",
              "         'degliimmigrati': 1,\n",
              "         'd’': 1,\n",
              "         'giachettiane': 1,\n",
              "         'Cr…': 1,\n",
              "         'Immigrati-': 1,\n",
              "         'Stazionecentrale': 1,\n",
              "         'Ong’s': 1,\n",
              "         'trogl@dgfiti': 1,\n",
              "         'Pasqualato': 1,\n",
              "         '!!mi': 1,\n",
              "         'Varese@dgpress': 1,\n",
              "         '@dg€/ora': 1,\n",
              "         'stopinvasione': 1,\n",
              "         'eu-est': 1,\n",
              "         'pescosi': 1,\n",
              "         'Olbes': 1,\n",
              "         'Tevere!': 1,\n",
              "         '•@dg@dg/@dg@dg/@dg@dg': 1,\n",
              "         'Ealloggio': 1,\n",
              "         'lamerd': 1,\n",
              "         'Xannihanno': 1,\n",
              "         'rom/ladri': 1,\n",
              "         'rom=': 1,\n",
              "         'I°risorsa': 1,\n",
              "         'immigratibastò': 1,\n",
              "         'Democraticiandreste': 1,\n",
              "         'Addossandoci': 1,\n",
              "         'Malmø': 1,\n",
              "         '-comunitaria': 1,\n",
              "         '🖕🖕🖕🖕': 1,\n",
              "         'Svisceratamente': 1,\n",
              "         'Renzi,': 1,\n",
              "         'Compact=solo': 1,\n",
              "         'Piagnisteipensate': 1,\n",
              "         'Bugiardi.': 1,\n",
              "         'adibirla': 1,\n",
              "         \"Sara'\": 1,\n",
              "         'Ebree': 1,\n",
              "         'pontemorandi': 1,\n",
              "         'nascondimenti': 1,\n",
              "         'clandestina•illeciti': 1,\n",
              "         'Obblighisiamo': 1,\n",
              "         'assegniassistenziali': 1,\n",
              "         'Sentirlo.salvini': 1,\n",
              "         'Rimini…': 1,\n",
              "         'Maledettiiiiiii!': 1,\n",
              "         'Siam…': 1,\n",
              "         'Albapairetti': 1,\n",
              "         'contentivoi': 1,\n",
              "         'No!siete': 1,\n",
              "         'Slarp😁': 1,\n",
              "         'nient’': 1,\n",
              "         'Scuolacalcio': 1,\n",
              "         'Na…': 1,\n",
              "         '!!🇮🇹': 1,\n",
              "         'Equiparando': 1,\n",
              "         'in🇮🇹mantenuto': 1,\n",
              "         'ris…': 1,\n",
              "         'marattin': 1,\n",
              "         'Dortmund\\\\n': 1,\n",
              "         'Ls/l@dg': 1,\n",
              "         'Sinodo@dg@dg@dg@dg': 1,\n",
              "         'bastainvasione': 1,\n",
              "         'convinvono': 1,\n",
              "         'avemus': 1,\n",
              "         'integrazionemigranti': 1,\n",
              "         'noiussoli': 1,\n",
              "         'virta': 1,\n",
              "         'crozzameraviglie': 1,\n",
              "         'antidemocrati': 1,\n",
              "         'Vecchi.': 1,\n",
              "         'misteriudinesi': 1,\n",
              "         'Verticeue': 1,\n",
              "         '🤬': 1,\n",
              "         'Stopinvasione…': 1,\n",
              "         'Paesisiete': 1,\n",
              "         'vi…': 1,\n",
              "         'Staseraitalia': 1,\n",
              "         '!pensassero': 1,\n",
              "         'theend': 1,\n",
              "         'minoranz…': 1,\n",
              "         '!mai': 1,\n",
              "         'chic!': 1,\n",
              "         'Vogliono,': 1,\n",
              "         'Welcomerefugees': 1,\n",
              "         'matrixsgarbi': 1,\n",
              "         'pluripregiudicata': 1,\n",
              "         '!!!⚡⛅': 1,\n",
              "         'prima!': 1,\n",
              "         'Cose\"': 1,\n",
              "         'tua…': 1,\n",
              "         'rom’': 1,\n",
              "         'Afroislamica': 1,\n",
              "         'disilluderla': 1,\n",
              "         '/boldrini': 1,\n",
              "         'Rateo': 1,\n",
              "         'passateglieli': 1,\n",
              "         'bastardiislamici': 1,\n",
              "         'tovinato': 1,\n",
              "         'Betorinon': 1,\n",
              "         'Ue:quote': 1,\n",
              "         'impuni': 1,\n",
              "         'isterichino': 1,\n",
              "         'Pdc,': 1,\n",
              "         'cacc…': 1,\n",
              "         'sharia@dgbelgium': 1,\n",
              "         'nagativamente': 1,\n",
              "         'Idioti,': 1,\n",
              "         'Dopo…': 1,\n",
              "         '??perche': 1,\n",
              "         'estirp…': 1,\n",
              "         'Nemorai@dg': 1,\n",
              "         'geaxue': 1,\n",
              "         'sicurezzagrazie': 1,\n",
              "         'scemi�': 1,\n",
              "         'grav…': 1,\n",
              "         'sovranismi': 1,\n",
              "         'spantaneamente': 1,\n",
              "         'cerise': 1,\n",
              "         'sputacchiarlo': 1,\n",
              "         'Merdammmaaa': 1,\n",
              "         'aicds': 1,\n",
              "         'Asia/indonesia': 1,\n",
              "         'Novax': 1,\n",
              "         'infogneremo': 1,\n",
              "         'Rammendate': 1,\n",
              "         'araboafricani': 1,\n",
              "         'urinino': 1,\n",
              "         'Confinano': 1,\n",
              "         'expiva': 1,\n",
              "         'iostoconmimmolucano': 1,\n",
              "         'altri…': 1,\n",
              "         'Rioccupiamo': 1,\n",
              "         'sinistraladrona': 1,\n",
              "         ...})"
            ]
          },
          "metadata": {},
          "execution_count": 64
        }
      ]
    },
    {
      "cell_type": "markdown",
      "source": [
        "All OOV words only appear once. At closer inspection, most of them seem to be caused by hashtags (characterized by the lack of seaparation between the words, failed tokenization (especially of repeated emojiis and of punctuation) and typos."
      ],
      "metadata": {
        "id": "Zz3viur2mDls"
      }
    },
    {
      "cell_type": "markdown",
      "source": [
        "#Feature Extraction\n"
      ],
      "metadata": {
        "id": "Lu23cA0l99oW"
      }
    },
    {
      "cell_type": "markdown",
      "source": [
        "##Averaging word embeddings\n",
        "We'll represent each tweet by aggreagating the embeddings of its tokens.\n",
        "\n",
        "\n",
        "1.   Doc = mean of all its token embeddings\n",
        "2.   Doc = mean of its \"lessically full\" token embeddings\n",
        "3.   Doc = concatenation of the 3 mean vectors of its nouns, verbs and adjectives.\n",
        "\n"
      ],
      "metadata": {
        "id": "f2mjQUbKIYS7"
      }
    },
    {
      "cell_type": "code",
      "source": [
        "def compute_embeddings_mean(document_embeddings):\n",
        "    sum_array = np.sum(document_embeddings, axis=0) #axis=0→media per righe\n",
        "    mean_array = np.divide(sum_array, len(document_embeddings))\n",
        "    return mean_array"
      ],
      "metadata": {
        "id": "xAk76vOsONnW"
      },
      "execution_count": 65,
      "outputs": []
    },
    {
      "cell_type": "code",
      "source": [
        "def compute_all_embeddings_mean(document_tokens):\n",
        "    \"\"\"\n",
        "    1. Doc = mean of all its token embeddings\n",
        "    \"\"\"\n",
        "    document_embeddings = []\n",
        "\n",
        "    for token in document_tokens:\n",
        "        word = token['word']\n",
        "        if word in embeddings:\n",
        "            document_embeddings.append(embeddings[word])\n",
        "\n",
        "    if len(document_embeddings) == 0: #if no words are in the embeddings dict\n",
        "        mean_document_embeddings = np.zeros(128) #128-dimensional vect with only 0s\n",
        "    else:\n",
        "        mean_document_embeddings = compute_embeddings_mean(document_embeddings)\n",
        "    return mean_document_embeddings"
      ],
      "metadata": {
        "id": "hkr-1WovOvcK"
      },
      "execution_count": 66,
      "outputs": []
    },
    {
      "cell_type": "code",
      "source": [
        "def compute_filtered_embeddings_mean(document_tokens):\n",
        "    \"\"\"\n",
        "    2. Doc = mean of its \"lessically full\" token embeddings\n",
        "    \"\"\"\n",
        "    document_embeddings = []\n",
        "\n",
        "    for token in document_tokens:\n",
        "        word = token['word']\n",
        "        pos = token['pos']\n",
        "        if word in embeddings and pos in ['ADJ', 'NOUN', 'VERB']:\n",
        "            document_embeddings.append(embeddings[word])\n",
        "\n",
        "    if len(document_embeddings) == 0:\n",
        "        mean_document_embeddings = np.zeros(128)\n",
        "    else:\n",
        "        mean_document_embeddings = compute_embeddings_mean(document_embeddings)\n",
        "    return mean_document_embeddings"
      ],
      "metadata": {
        "id": "fMhcm99hP02f"
      },
      "execution_count": 67,
      "outputs": []
    },
    {
      "cell_type": "code",
      "source": [
        "def compute_filtered_embeddings_sep_means(document_tokens):\n",
        "    \"\"\"\n",
        "    3. Doc = concatenation of the 3 mean vectors of its nouns, verbs and adjectives.\n",
        "    \"\"\"\n",
        "    pos_groups = {'ADJ': [], 'NOUN': [], 'VERB': []}\n",
        "\n",
        "    # Collect embeddings by POS group\n",
        "    for token in document_tokens:\n",
        "        word, pos = token['word'], token['pos']\n",
        "        if word in embeddings and pos in pos_groups:\n",
        "            pos_groups[pos].append(embeddings[word])\n",
        "\n",
        "    # Compute mean embeddings or default to zeros\n",
        "    mean_embeddings = {\n",
        "        pos: compute_embeddings_mean(pos_groups[pos]) if pos_groups[pos] else np.zeros(128)\n",
        "        for pos in pos_groups\n",
        "    }\n",
        "\n",
        "    # Concatenate all means into a single vector\n",
        "    mean_document_embeddings = np.concatenate(\n",
        "        [mean_embeddings['ADJ'], mean_embeddings['NOUN'], mean_embeddings['VERB']], axis=None\n",
        "    )\n",
        "    return mean_document_embeddings"
      ],
      "metadata": {
        "id": "vrzGOdefR1Kp"
      },
      "execution_count": 68,
      "outputs": []
    },
    {
      "cell_type": "markdown",
      "source": [
        "##Weighted embeddings\n",
        "Use TF-IDF to weigh embeddings"
      ],
      "metadata": {
        "id": "ByMNDUtxS42W"
      }
    },
    {
      "cell_type": "markdown",
      "source": [
        "#Build feature matrix"
      ],
      "metadata": {
        "id": "aeQWqbfzc8qv"
      }
    },
    {
      "cell_type": "code",
      "source": [
        "def extract_features(documents):\n",
        "    dataset_features = []\n",
        "    for document_tokens in documents:\n",
        "        # document_embeddings = compute_all_embeddings_mean(document_tokens)\n",
        "        document_embeddings = compute_filtered_embeddings_mean(document_tokens)\n",
        "        # document_embeddings = compute_filtered_embeddings_sep_means(document_tokens)\n",
        "        dataset_features.append(document_embeddings)\n",
        "    return dataset_features"
      ],
      "metadata": {
        "id": "r1LFM9m_c6ZA"
      },
      "execution_count": 69,
      "outputs": []
    },
    {
      "cell_type": "code",
      "source": [
        "all_features = extract_features(all_documents)"
      ],
      "metadata": {
        "id": "ppDkQMyLdERb"
      },
      "execution_count": 70,
      "outputs": []
    },
    {
      "cell_type": "code",
      "source": [
        "len(all_features), len(all_features[0])\n",
        "#(n. tweets, embeddings' dimensions)"
      ],
      "metadata": {
        "colab": {
          "base_uri": "https://localhost:8080/"
        },
        "id": "yLHL4pD4dQtl",
        "outputId": "d9230531-a76d-4f06-c81f-9d8310a7628e"
      },
      "execution_count": 71,
      "outputs": [
        {
          "output_type": "execute_result",
          "data": {
            "text/plain": [
              "(6837, 128)"
            ]
          },
          "metadata": {},
          "execution_count": 71
        }
      ]
    },
    {
      "cell_type": "code",
      "source": [
        "def create_label_list(loaded_docs):\n",
        "  labels = []\n",
        "  for doc in loaded_docs:\n",
        "    labels.append(doc['hs'])\n",
        "  return labels\n",
        "\n",
        "all_labels = create_label_list(loaded_docs)"
      ],
      "metadata": {
        "id": "A-5pC12GddO_"
      },
      "execution_count": 80,
      "outputs": []
    },
    {
      "cell_type": "markdown",
      "source": [
        "# Run experiment: SVM"
      ],
      "metadata": {
        "id": "G9G1tsvJVqAp"
      }
    },
    {
      "cell_type": "markdown",
      "source": [
        "##Normalization"
      ],
      "metadata": {
        "id": "4eL0Oob9WCqs"
      }
    },
    {
      "cell_type": "markdown",
      "source": [
        "##Classification"
      ],
      "metadata": {
        "id": "iAuGZo9gWJgU"
      }
    }
  ]
}